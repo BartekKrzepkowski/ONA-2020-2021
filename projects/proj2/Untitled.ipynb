{
 "cells": [
  {
   "cell_type": "code",
   "execution_count": 1,
   "id": "6bca8617-2257-4b78-b61d-1f781f7a4042",
   "metadata": {},
   "outputs": [],
   "source": [
    "%load_ext autoreload\n",
    "%autoreload 2"
   ]
  },
  {
   "cell_type": "markdown",
   "id": "8033ad31-c7a5-43b1-a69f-4f815d305f3d",
   "metadata": {},
   "source": [
    "Naszym zadaniem będzie napisanie prostego programu, który pozwoli na kompresję obrazów przy pomocy dyskretnej transformaty cosinusowej. \n",
    "\n",
    "Funkcje programu powinny być następujące:\n",
    "\n",
    "> program wykonywalny (dctcompress.py), który korzysta z biblioteki argparse i rozpoznaje następujące argumenty (plik wejsciowy: .bmp lub .dct), współczynnik kompresji --ratio (typu float) (2 pkt)<br>\n",
    "\n",
    "> Kiedy program dostanie plik wejściowy w postaci pliku BMP i współczynnik kompresji (domyślnie 0.5), powinien dokonać transformaty kosinusowej danych obrazu i następnie zachować tylko tyle współczynników widma obrazu, aby po ich zapisaniu do pliku otrzymać współczynnik kompresji nie gorszy od zadanego, ale możliwie mu bliski. Oczywiście należy także zachować dodtkowe informacje, aby możliwa była dekompresja (m.in. rozmiar oryginalnego obrazu). Obraz wynikowy powinien zostać zapisany do pliku o tej samej nazwie i rozszerzeniu .dct (5 pkt))<br>\n",
    "\n",
    "> Kiedy program dostanie plik wejściowy w postaci pliku .dct, powiniew wczytać zawarte w nim dane (tj. dane obrazu i zachowane współczynniki widma), a następnie wpisać je do macierzy, uzupełnić zerami i dokonać odwrotnej transformaty kosinusowej i zapisać wynikowy obraz do pliku .bmp (5 pkt). )<br>\n",
    "\n",
    "> Wersja podstawowa programu powinna działać dla obrazów w skali szarości (8 bitów/pixel), podobnie do tego co robiliśmy na zajęciach dotyczących kompresji, natomiast wersja pełna, powinna również działać na obrazach w formacie RGB (3*8bitów/pixel), traktując każdą ze składowych(RGB) jako osobną macierz, która podlega kompresji. (3 pkt))<br>\n",
    "\n",
    "> Jako rozwiązanie należy nadesłać plik dctcompress.py zawierający kod rozwiązania wyposażony w czytelne komentarze. \n",
    "\n",
    "Dodatkowa, funkcjonalność (bonusowe 3 punkty):\n",
    "\n",
    "jeśli podczas kompresji podamy programowi flagę --gzip, program wykorzystuje kompresję Lempela-Ziv'a w module gzip, aby w pliku o zadanym rozmiarze przechować więcej współczynników. Należy wtedy (metodą prób i błędów) dobrać liczbę współczynników tak, aby po kompresji gzip rozmiar pliku nadal nie przekraczał zadanego współczynnika kompresji, ale był mu bliski. Warto zastanowić sie nad tym jak dobierać liczbę współczynników. Należy spodziewać się dość równomiernego współczynnika kompresji dla zestawu liczb."
   ]
  },
  {
   "cell_type": "code",
   "execution_count": 2,
   "id": "eab7b08e-dc29-4bc0-ad15-5bb2ae0805c3",
   "metadata": {},
   "outputs": [],
   "source": [
    "import numpy as np\n",
    "from PIL import Image"
   ]
  },
  {
   "cell_type": "code",
   "execution_count": 3,
   "id": "481b3185-727a-40a0-9ff7-e97302158b2c",
   "metadata": {},
   "outputs": [
    {
     "data": {
      "text/plain": [
       "<PixelAccess at 0x7f25f25d7830>"
      ]
     },
     "execution_count": 3,
     "metadata": {},
     "output_type": "execute_result"
    }
   ],
   "source": [
    "img = Image.open('DNA-monument.bmp')\n",
    "img.load()"
   ]
  },
  {
   "cell_type": "code",
   "execution_count": 12,
   "id": "c9fa2969-17a5-4091-acfd-08e8ad84ea27",
   "metadata": {},
   "outputs": [],
   "source": [
    "from dctcompress import bmp2dct, dct2bmp"
   ]
  },
  {
   "cell_type": "code",
   "execution_count": 16,
   "id": "dd3f2bea-2d71-4234-9cc5-0a8b8257d3a7",
   "metadata": {
    "tags": []
   },
   "outputs": [
    {
     "name": "stdout",
     "output_type": "stream",
     "text": [
      "(500, 332)\n"
     ]
    },
    {
     "ename": "KeyboardInterrupt",
     "evalue": "",
     "output_type": "error",
     "traceback": [
      "\u001b[0;31m---------------------------------------------------------------------------\u001b[0m",
      "\u001b[0;31mKeyboardInterrupt\u001b[0m                         Traceback (most recent call last)",
      "\u001b[0;32m<ipython-input-16-4b953176549e>\u001b[0m in \u001b[0;36m<module>\u001b[0;34m\u001b[0m\n\u001b[0;32m----> 1\u001b[0;31m \u001b[0mbmp2dct\u001b[0m\u001b[0;34m(\u001b[0m\u001b[0;34m'DNA-monument-BW'\u001b[0m\u001b[0;34m,\u001b[0m \u001b[0;36m0.5\u001b[0m\u001b[0;34m)\u001b[0m\u001b[0;34m\u001b[0m\u001b[0;34m\u001b[0m\u001b[0m\n\u001b[0m",
      "\u001b[0;32m~/Pulpit/Letni/ONA/projekty/proj2/dctcompress.py\u001b[0m in \u001b[0;36mbmp2dct\u001b[0;34m(filename, ratio, eps)\u001b[0m\n\u001b[1;32m     43\u001b[0m         \u001b[0mi\u001b[0m \u001b[0;34m=\u001b[0m \u001b[0;34m(\u001b[0m\u001b[0ma\u001b[0m \u001b[0;34m+\u001b[0m \u001b[0mb\u001b[0m\u001b[0;34m)\u001b[0m \u001b[0;34m//\u001b[0m \u001b[0;36m2\u001b[0m\u001b[0;34m\u001b[0m\u001b[0;34m\u001b[0m\u001b[0m\n\u001b[1;32m     44\u001b[0m         \u001b[0mcoefs_p\u001b[0m\u001b[0;34m[\u001b[0m\u001b[0;34m:\u001b[0m\u001b[0mi\u001b[0m\u001b[0;34m,\u001b[0m \u001b[0;34m:\u001b[0m\u001b[0mi\u001b[0m\u001b[0;34m]\u001b[0m \u001b[0;34m=\u001b[0m \u001b[0mcoefs\u001b[0m\u001b[0;34m[\u001b[0m\u001b[0;34m:\u001b[0m\u001b[0mi\u001b[0m\u001b[0;34m,\u001b[0m \u001b[0;34m:\u001b[0m\u001b[0mi\u001b[0m\u001b[0;34m]\u001b[0m\u001b[0;34m\u001b[0m\u001b[0;34m\u001b[0m\u001b[0m\n\u001b[0;32m---> 45\u001b[0;31m         \u001b[0mim_t\u001b[0m \u001b[0;34m=\u001b[0m \u001b[0mImage\u001b[0m\u001b[0;34m.\u001b[0m\u001b[0mfromarray\u001b[0m\u001b[0;34m(\u001b[0m\u001b[0mget_2d_idct\u001b[0m\u001b[0;34m(\u001b[0m\u001b[0mcoefs_p\u001b[0m\u001b[0;34m)\u001b[0m\u001b[0;34m)\u001b[0m\u001b[0;34m\u001b[0m\u001b[0;34m\u001b[0m\u001b[0m\n\u001b[0m\u001b[1;32m     46\u001b[0m         \u001b[0mcurr_ratio\u001b[0m \u001b[0;34m=\u001b[0m \u001b[0msys\u001b[0m\u001b[0;34m.\u001b[0m\u001b[0mgetsizeof\u001b[0m\u001b[0;34m(\u001b[0m\u001b[0mim_t\u001b[0m\u001b[0;34m)\u001b[0m \u001b[0;34m/\u001b[0m \u001b[0msys\u001b[0m\u001b[0;34m.\u001b[0m\u001b[0mgetsizeof\u001b[0m\u001b[0;34m(\u001b[0m\u001b[0mim\u001b[0m\u001b[0;34m)\u001b[0m\u001b[0;34m\u001b[0m\u001b[0;34m\u001b[0m\u001b[0m\n\u001b[1;32m     47\u001b[0m         \u001b[0;32mif\u001b[0m \u001b[0mcurr_ratio\u001b[0m \u001b[0;34m>\u001b[0m \u001b[0mratio\u001b[0m\u001b[0;34m:\u001b[0m\u001b[0;34m\u001b[0m\u001b[0;34m\u001b[0m\u001b[0m\n",
      "\u001b[0;32m~/Pulpit/Letni/ONA/projekty/proj2/dctcompress.py\u001b[0m in \u001b[0;36mget_2d_idct\u001b[0;34m(coefficients)\u001b[0m\n\u001b[1;32m     21\u001b[0m     \"\"\" Get 2D Inverse Cosine Transform of Image\n\u001b[1;32m     22\u001b[0m     \"\"\"\n\u001b[0;32m---> 23\u001b[0;31m     \u001b[0;32mreturn\u001b[0m \u001b[0mfftpack\u001b[0m\u001b[0;34m.\u001b[0m\u001b[0midct\u001b[0m\u001b[0;34m(\u001b[0m\u001b[0mfftpack\u001b[0m\u001b[0;34m.\u001b[0m\u001b[0midct\u001b[0m\u001b[0;34m(\u001b[0m\u001b[0mcoefficients\u001b[0m\u001b[0;34m.\u001b[0m\u001b[0mT\u001b[0m\u001b[0;34m,\u001b[0m \u001b[0mnorm\u001b[0m\u001b[0;34m=\u001b[0m\u001b[0;34m'ortho'\u001b[0m\u001b[0;34m)\u001b[0m\u001b[0;34m.\u001b[0m\u001b[0mT\u001b[0m\u001b[0;34m,\u001b[0m \u001b[0mnorm\u001b[0m\u001b[0;34m=\u001b[0m\u001b[0;34m'ortho'\u001b[0m\u001b[0;34m)\u001b[0m\u001b[0;34m\u001b[0m\u001b[0;34m\u001b[0m\u001b[0m\n\u001b[0m\u001b[1;32m     24\u001b[0m \u001b[0;34m\u001b[0m\u001b[0m\n\u001b[1;32m     25\u001b[0m \u001b[0;32mdef\u001b[0m \u001b[0msave_img\u001b[0m\u001b[0;34m(\u001b[0m\u001b[0mimg\u001b[0m\u001b[0;34m,\u001b[0m \u001b[0mimg_name\u001b[0m\u001b[0;34m)\u001b[0m\u001b[0;34m:\u001b[0m\u001b[0;34m\u001b[0m\u001b[0;34m\u001b[0m\u001b[0m\n",
      "\u001b[0;32m~/.virtualenvs/tldl/lib/python3.8/site-packages/scipy/fftpack/_realtransforms.py\u001b[0m in \u001b[0;36midct\u001b[0;34m(x, type, n, axis, norm, overwrite_x)\u001b[0m\n\u001b[1;32m    432\u001b[0m     \"\"\"\n\u001b[1;32m    433\u001b[0m     \u001b[0mtype\u001b[0m \u001b[0;34m=\u001b[0m \u001b[0m_inverse_typemap\u001b[0m\u001b[0;34m[\u001b[0m\u001b[0mtype\u001b[0m\u001b[0;34m]\u001b[0m\u001b[0;34m\u001b[0m\u001b[0;34m\u001b[0m\u001b[0m\n\u001b[0;32m--> 434\u001b[0;31m     \u001b[0;32mreturn\u001b[0m \u001b[0m_pocketfft\u001b[0m\u001b[0;34m.\u001b[0m\u001b[0mdct\u001b[0m\u001b[0;34m(\u001b[0m\u001b[0mx\u001b[0m\u001b[0;34m,\u001b[0m \u001b[0mtype\u001b[0m\u001b[0;34m,\u001b[0m \u001b[0mn\u001b[0m\u001b[0;34m,\u001b[0m \u001b[0maxis\u001b[0m\u001b[0;34m,\u001b[0m \u001b[0mnorm\u001b[0m\u001b[0;34m,\u001b[0m \u001b[0moverwrite_x\u001b[0m\u001b[0;34m)\u001b[0m\u001b[0;34m\u001b[0m\u001b[0;34m\u001b[0m\u001b[0m\n\u001b[0m\u001b[1;32m    435\u001b[0m \u001b[0;34m\u001b[0m\u001b[0m\n\u001b[1;32m    436\u001b[0m \u001b[0;34m\u001b[0m\u001b[0m\n",
      "\u001b[0;32m~/.virtualenvs/tldl/lib/python3.8/site-packages/scipy/fft/_pocketfft/realtransforms.py\u001b[0m in \u001b[0;36m_r2r\u001b[0;34m(forward, transform, x, type, n, axis, norm, overwrite_x, workers, orthogonalize)\u001b[0m\n\u001b[1;32m     44\u001b[0m         \u001b[0;32mreturn\u001b[0m \u001b[0mout\u001b[0m\u001b[0;34m\u001b[0m\u001b[0;34m\u001b[0m\u001b[0m\n\u001b[1;32m     45\u001b[0m \u001b[0;34m\u001b[0m\u001b[0m\n\u001b[0;32m---> 46\u001b[0;31m     \u001b[0;32mreturn\u001b[0m \u001b[0mtransform\u001b[0m\u001b[0;34m(\u001b[0m\u001b[0mtmp\u001b[0m\u001b[0;34m,\u001b[0m \u001b[0mtype\u001b[0m\u001b[0;34m,\u001b[0m \u001b[0;34m(\u001b[0m\u001b[0maxis\u001b[0m\u001b[0;34m,\u001b[0m\u001b[0;34m)\u001b[0m\u001b[0;34m,\u001b[0m \u001b[0mnorm\u001b[0m\u001b[0;34m,\u001b[0m \u001b[0mout\u001b[0m\u001b[0;34m,\u001b[0m \u001b[0mworkers\u001b[0m\u001b[0;34m,\u001b[0m \u001b[0morthogonalize\u001b[0m\u001b[0;34m)\u001b[0m\u001b[0;34m\u001b[0m\u001b[0;34m\u001b[0m\u001b[0m\n\u001b[0m\u001b[1;32m     47\u001b[0m \u001b[0;34m\u001b[0m\u001b[0m\n\u001b[1;32m     48\u001b[0m \u001b[0;34m\u001b[0m\u001b[0m\n",
      "\u001b[0;31mKeyboardInterrupt\u001b[0m: "
     ]
    }
   ],
   "source": [
    "bmp2dct('DNA-monument-BW', 0.5)"
   ]
  },
  {
   "cell_type": "code",
   "execution_count": 6,
   "id": "35f5b391-2e82-408f-9e58-4ab3ca68d30f",
   "metadata": {},
   "outputs": [],
   "source": [
    "dct2bmp('DNA-monument-BW')"
   ]
  },
  {
   "cell_type": "code",
   "execution_count": null,
   "id": "d342baa1-d4a3-42f6-9624-2933ecd32727",
   "metadata": {},
   "outputs": [],
   "source": [
    "import numpy as np\n",
    "from PIL import Image\n",
    "from scipy import fftpack"
   ]
  },
  {
   "cell_type": "code",
   "execution_count": null,
   "id": "03eeb242-6e37-452f-b5b2-820729099354",
   "metadata": {},
   "outputs": [],
   "source": [
    "def get_2D_dct(img):\n",
    "    \"\"\" Get 2D Cosine Transform of Image\n",
    "    \"\"\"\n",
    "    return fftpack.dct(fftpack.dct(img.T, norm='ortho').T, norm='ortho')\n",
    "\n",
    "def get_2d_idct(coefficients):\n",
    "    \"\"\" Get 2D Inverse Cosine Transform of Image\n",
    "    \"\"\"\n",
    "    return fftpack.idct(fftpack.idct(coefficients.T, norm='ortho').T, norm='ortho')\n",
    "\n",
    "def save_img(img, img_name):\n",
    "    im = Image.fromarray(img)\n",
    "    if im.mode != 'RGB':\n",
    "        im = im.convert('RGB')\n",
    "    im.save(img_name)"
   ]
  },
  {
   "cell_type": "code",
   "execution_count": null,
   "id": "a13706b4-f844-4a8d-b9ef-92bec3784afe",
   "metadata": {},
   "outputs": [],
   "source": [
    "def bmp2dct(filename, ratio, eps=0.05):\n",
    "    im = Image.open(f'{filename}.bmp', mode='r')\n",
    "    img = np.array(im, dtype=float)\n",
    "    a = 0\n",
    "    b = img.shape[0]\n",
    "    curr_ratio = 1.0\n",
    "    save_img(img, f'{filename}_0.bmp')\n",
    "    coefs = get_2D_dct(img)\n",
    "    coefs_p = np.zeros_like(coefs)\n",
    "    while curr_ratio < ratio or curr_ratio > ratio + eps:\n",
    "        del coefs_p\n",
    "        print(curr_ratio, a, b)\n",
    "        coefs_p = np.zeros_like(coefs)\n",
    "        i = (a + b) // 2\n",
    "        coefs_p[:i, :i] = coefs[:i, :i]\n",
    "        save_img(get_2d_idct(coefs_p), f'{filename}_1.bmp')\n",
    "        curr_ratio = os.path.getsize(f'{filename}_1.bmp') / os.path.getsize(f'{filename}_0.bmp')\n",
    "        print(os.path.getsize(f'{filename}_1.bmp'))\n",
    "        if curr_ratio > ratio:\n",
    "            b = i\n",
    "        else:\n",
    "            a = i\n",
    "    data = (coefs_p[:i, :i], coefs_p.shape)\n",
    "    with open(f'{filename}.dct', 'wb') as f:\n",
    "        pickle.dump(data, f)"
   ]
  },
  {
   "cell_type": "code",
   "execution_count": null,
   "id": "ec929b3b-9c08-4e2d-9557-a7ca89ceb670",
   "metadata": {},
   "outputs": [],
   "source": [
    "bmp2dct(filename, 0.5)"
   ]
  },
  {
   "cell_type": "code",
   "execution_count": null,
   "id": "23b2c00b-d458-4a2b-9bc3-981f9f49be1a",
   "metadata": {},
   "outputs": [],
   "source": []
  }
 ],
 "metadata": {
  "kernelspec": {
   "display_name": "tldl",
   "language": "python",
   "name": "tldl"
  },
  "language_info": {
   "codemirror_mode": {
    "name": "ipython",
    "version": 3
   },
   "file_extension": ".py",
   "mimetype": "text/x-python",
   "name": "python",
   "nbconvert_exporter": "python",
   "pygments_lexer": "ipython3",
   "version": "3.8.10"
  }
 },
 "nbformat": 4,
 "nbformat_minor": 5
}
