{
 "cells": [
  {
   "cell_type": "code",
   "execution_count": 8,
   "metadata": {},
   "outputs": [],
   "source": [
    "import matplotlib.pyplot as plt\n",
    "import numpy as np"
   ]
  },
  {
   "cell_type": "markdown",
   "metadata": {},
   "source": [
    "## 1. Stwórz macierz Hilberta H[i,j]=1/i+j-1 dla sensownie dużego rozmiaru macierzy (100×100, 200×200) i wyświetl ją przy pomocy imshow() z biblioteki matplotlib"
   ]
  },
  {
   "cell_type": "code",
   "execution_count": 2,
   "metadata": {},
   "outputs": [],
   "source": [
    "N = 100\n",
    "H = np.zeros((N, N))"
   ]
  },
  {
   "cell_type": "code",
   "execution_count": 4,
   "metadata": {},
   "outputs": [],
   "source": [
    "for i in range(N):\n",
    "    for j in range(N):\n",
    "        H[i,j] = 1 / (i + j + 1)"
   ]
  },
  {
   "cell_type": "code",
   "execution_count": 5,
   "metadata": {},
   "outputs": [
    {
     "data": {
      "text/plain": [
       "array([[1.        , 0.5       , 0.33333333, ..., 0.01020408, 0.01010101,\n",
       "        0.01      ],\n",
       "       [0.5       , 0.33333333, 0.25      , ..., 0.01010101, 0.01      ,\n",
       "        0.00990099],\n",
       "       [0.33333333, 0.25      , 0.2       , ..., 0.01      , 0.00990099,\n",
       "        0.00980392],\n",
       "       ...,\n",
       "       [0.01020408, 0.01010101, 0.01      , ..., 0.00512821, 0.00510204,\n",
       "        0.00507614],\n",
       "       [0.01010101, 0.01      , 0.00990099, ..., 0.00510204, 0.00507614,\n",
       "        0.00505051],\n",
       "       [0.01      , 0.00990099, 0.00980392, ..., 0.00507614, 0.00505051,\n",
       "        0.00502513]])"
      ]
     },
     "execution_count": 5,
     "metadata": {},
     "output_type": "execute_result"
    }
   ],
   "source": [
    "H"
   ]
  },
  {
   "cell_type": "code",
   "execution_count": 7,
   "metadata": {},
   "outputs": [
    {
     "data": {
      "text/plain": [
       "2.419315212258418e+19"
      ]
     },
     "execution_count": 7,
     "metadata": {},
     "output_type": "execute_result"
    }
   ],
   "source": [
    "np.linalg.cond(H, p='fro')"
   ]
  },
  {
   "cell_type": "code",
   "execution_count": 14,
   "metadata": {},
   "outputs": [
    {
     "data": {
      "text/plain": [
       "<matplotlib.image.AxesImage at 0x7f348669fda0>"
      ]
     },
     "execution_count": 14,
     "metadata": {},
     "output_type": "execute_result"
    },
    {
     "data": {
      "image/png": "[encoded data removed]",
      "text/plain": [
       "<Figure size 720x720 with 1 Axes>"
      ]
     },
     "metadata": {
      "needs_background": "light"
     },
     "output_type": "display_data"
    }
   ],
   "source": [
    "plt.figure(figsize=(10, 10))\n",
    "plt.imshow(H);"
   ]
  },
  {
   "cell_type": "markdown",
   "metadata": {},
   "source": [
    "## 2. Przypomnij sobie rozwiązywanie ukł. równań poprzez rozkład LU. Zaimplementuj ręcznię tę metodę (w wersji bez wyboru el. głównego) i spróbuj rozwiązać tym sposobem układ postaci A= np.array([[1e-18,1.0],[1.0,2.0]]) B=np.array([1.0,4.0]). Porównaj wynik z wynikiem scipy.linalg.solve(A,B). Dlaczego w przypadku tej macierzy wybór elementu głównego ma takie znaczenie?"
   ]
  },
  {
   "cell_type": "code",
   "execution_count": 19,
   "metadata": {},
   "outputs": [],
   "source": [
    "import scipy\n",
    "from scipy.linalg import solve"
   ]
  },
  {
   "cell_type": "code",
   "execution_count": 15,
   "metadata": {},
   "outputs": [],
   "source": [
    "A= np.array([[1e-18,1.0],[1.0,2.0]])\n",
    "B=np.array([1.0,4.0])"
   ]
  },
  {
   "cell_type": "code",
   "execution_count": 18,
   "metadata": {},
   "outputs": [
    {
     "data": {
      "text/plain": [
       "array([2., 1.])"
      ]
     },
     "execution_count": 18,
     "metadata": {},
     "output_type": "execute_result"
    }
   ],
   "source": [
    "solve(A, B)"
   ]
  },
  {
   "cell_type": "code",
   "execution_count": null,
   "metadata": {},
   "outputs": [],
   "source": [
    "# dokończ\n",
    "def lu_decomp(A):\n",
    "    L = np.zeros_like(A)\n",
    "    U = np.zeros_like(A)\n",
    "    L[0, 0] = 1\n",
    "    U[0, 0] = A[0, 0]\n",
    "    L[1:, 0] = A[1:, 0] / A[0,0]\n",
    "    U[0, 1:] = A[0, 1:]\n",
    "    if len(A) == 2:\n",
    "        L[1,1] = 1\n",
    "        U[1,1] = A[1,1] - L[1,0] * U[0,1]\n",
    "        return L, U\n",
    "    # uzupełnienie schura\n",
    "    outer = np.outer(L[1:, 0], U[0, 1:])\n",
    "    L[1:, 1:], U[1:, 1:] = lu_decomp(A[1:, 1:] - outer)\n",
    "    return L, U"
   ]
  },
  {
   "cell_type": "markdown",
   "metadata": {},
   "source": [
    "## 3. Korzystając z metody scipy.rand(1000,1000) stwórz macierz losową. Użyj jej do przetestowania rozkładu macierzy  LU (scipy.linalg.lu) w wersji z permutacją i bez. Rozwiąż taki układ (dla b=scipy.rand(1000)) przy pomocy scipy.linalg.solve()"
   ]
  },
  {
   "cell_type": "code",
   "execution_count": 27,
   "metadata": {},
   "outputs": [],
   "source": [
    "A = scipy.rand(1000,1000)\n",
    "b=scipy.rand(1000)"
   ]
  },
  {
   "cell_type": "code",
   "execution_count": 31,
   "metadata": {},
   "outputs": [
    {
     "data": {
      "text/plain": [
       "array([-3.62901165e-01,  3.04133782e+00, -3.11542007e+00, -9.46858834e-01,\n",
       "        1.80541275e-01,  8.97022423e-02, -4.62136198e-01, -2.42982425e+00,\n",
       "       -2.16485316e-01, -1.63892869e+00, -2.28763419e+00, -1.68619280e+00,\n",
       "        8.07558470e-01,  1.39440238e+00,  1.28871957e-01, -1.43800169e+00,\n",
       "       -2.01033238e+00, -6.51193153e-01, -8.56625109e-01, -1.60183010e+00,\n",
       "       -5.78609756e-02,  1.17601637e-01, -3.86842973e+00,  1.79353718e+00,\n",
       "       -3.78519622e+00, -3.10101825e+00, -8.75159094e-01,  4.18382642e-01,\n",
       "        2.09233479e+00,  3.91426301e+00,  2.54791404e+00,  2.34889812e+00,\n",
       "        2.28330998e+00,  4.00165510e-01, -8.26324793e+00,  7.99960092e+00,\n",
       "       -7.94204646e-01, -7.95163313e+00, -2.86474277e-01, -5.29102122e+00,\n",
       "        1.62809722e+00, -3.83260273e-01,  1.22845194e+00, -5.25504682e+00,\n",
       "       -1.09057176e+00, -1.13875147e+00, -5.18082785e+00, -3.30786418e+00,\n",
       "       -2.35169524e+00, -1.61295078e-01,  2.39006321e+00, -4.12461491e-01,\n",
       "        2.00034604e+00, -1.22597032e+00, -2.63083236e+00,  6.73537830e-01,\n",
       "        5.94953200e-01,  1.26444967e+00,  6.21833654e+00,  3.19127208e+00,\n",
       "       -4.04842444e+00, -7.25337779e-01,  3.25834466e+00, -1.84345379e+00,\n",
       "        4.84234505e+00,  4.19974284e+00,  9.83469389e-01,  1.33399726e+00,\n",
       "       -3.66264770e+00, -3.03136977e+00, -8.63592002e-02, -1.55025308e+00,\n",
       "        1.62983054e-01, -2.03347610e+00, -1.26955621e-01, -4.75328779e+00,\n",
       "       -2.85385404e+00, -6.05218187e+00, -2.40326532e+00,  1.64827476e+00,\n",
       "        4.30943331e+00,  3.91220778e+00, -5.69423494e+00, -1.41398865e+00,\n",
       "       -9.81372095e-01, -1.21308230e+01,  7.13278317e+00,  1.57759071e+00,\n",
       "        7.56719070e+00,  4.00880017e+00, -1.93112819e+00,  6.63020359e-01,\n",
       "        6.93180166e-01, -3.67071511e+00, -3.31153652e+00,  1.16393808e+01,\n",
       "       -2.97855633e-01, -6.31872459e-01,  6.03773280e-01, -5.56011147e+00,\n",
       "        4.63923040e+00,  1.21030163e+01,  4.95272833e-02,  9.48673729e+00,\n",
       "       -1.45458972e+00,  1.45248102e+01, -1.40322508e+01,  2.97320588e+00,\n",
       "       -3.31489066e+00, -3.70669421e+00,  3.98543117e-01, -4.67164626e+00,\n",
       "       -6.64416564e+00, -2.48552112e+00,  7.54975818e+00, -1.77222782e+00,\n",
       "       -6.74853939e+00,  5.31797671e+00,  1.04138196e+01,  7.17549040e+00,\n",
       "       -3.87141366e+00, -6.49314087e+00, -3.64151213e+00,  6.22580644e+00,\n",
       "        2.15895388e+00, -1.58458377e-01,  9.47192124e+00, -1.73921566e+00,\n",
       "        1.42520838e-01, -1.84085738e+00, -1.00780616e+01,  5.37795848e+00,\n",
       "        3.02475395e-02,  5.22438928e-01,  8.23403445e+00, -2.04903619e+00,\n",
       "       -8.87775706e+00,  3.33097283e+00, -3.93945580e-01, -5.54854908e+00,\n",
       "        1.05795197e+00,  8.64496259e+00, -9.69057397e+00, -1.50655959e+01,\n",
       "        1.14414653e+01, -3.44222480e+00, -2.52794668e+01, -1.90954646e+01,\n",
       "        1.46363473e+00, -2.79728809e+00,  3.18612274e-01,  7.78357576e+00,\n",
       "       -1.25370807e+01,  8.57748267e+00, -3.99054794e+00, -2.27424139e+01,\n",
       "        1.06174082e+01,  1.19438590e-02, -7.25407788e+00,  9.89132353e+00,\n",
       "       -2.58206737e+00,  1.06975901e+01,  3.21117973e+00, -6.25563058e+00,\n",
       "        6.59058183e+00, -9.73825486e+00, -9.95121849e+00,  4.37671246e+00,\n",
       "        2.78284275e+00,  3.83285492e+00,  7.53023917e+00,  1.07830436e+01,\n",
       "        3.10859565e+00, -3.94156987e+00,  2.85500244e+00,  2.97113454e+00,\n",
       "       -1.27419818e+01,  1.72691635e+01, -9.61525211e+00, -2.92404782e+00,\n",
       "       -1.00370162e+01, -7.47582650e+00, -2.51509733e+00,  6.02045726e+00,\n",
       "       -1.16615211e+01, -1.28266678e+00, -6.53598164e+00, -7.85006990e-01,\n",
       "       -1.36447731e+00, -1.97021551e+00,  3.18758788e+00, -3.25987745e+00,\n",
       "        2.17655901e+00,  1.18885768e+00,  8.67516575e+00,  6.76752546e+00,\n",
       "       -6.58204731e-01, -2.24623481e+00, -9.55817924e+00, -7.54762737e+00,\n",
       "       -1.25749758e+00, -7.61393558e+00, -3.76691808e+00, -3.91775707e-01,\n",
       "        7.22871630e+00, -5.41714305e+00, -1.26313312e+00,  6.39844504e-01,\n",
       "       -6.00364676e-01, -4.37783620e+00, -7.32405808e+00,  2.19244659e+00,\n",
       "       -6.49727853e+00, -1.33986851e-01, -5.31098166e+00, -1.65133212e+00,\n",
       "       -1.89136545e+00,  2.90322481e+00,  8.16704184e+00, -1.22490820e+00,\n",
       "        5.73850825e+00,  3.75021933e+00,  3.00576789e+00,  2.72921001e+00,\n",
       "        6.77520920e+00,  5.33745542e+00,  3.57931324e+00, -1.09748193e+00,\n",
       "       -1.43280560e+01, -9.43239269e+00,  6.55608504e-01,  3.53168083e+00,\n",
       "       -6.05938910e+00, -7.59871459e+00, -1.63870284e+00,  3.56879262e-01,\n",
       "        3.51894682e+00, -9.74619260e+00,  4.32259689e-01,  4.12639151e+00,\n",
       "        1.80442970e+00,  3.60363510e+00, -9.79727441e+00, -2.55047339e+00,\n",
       "       -2.40108830e-01, -6.61627459e+00, -4.78953070e+00, -3.40164725e+00,\n",
       "        7.99039766e+00,  1.05934750e+00,  1.13360274e+01, -3.30511192e+00,\n",
       "       -4.39412739e+00, -2.61863046e+00,  8.43681897e+00,  7.36193398e+00,\n",
       "       -6.19929625e+00, -8.18490316e+00,  5.36899658e+00,  1.17218751e+01,\n",
       "        3.54403261e-01,  1.03358694e+00,  1.06780424e+01,  1.23962246e+01,\n",
       "       -9.53927887e+00, -1.97086585e+00, -9.31027747e-02,  6.59318287e+00,\n",
       "        3.67639555e+00, -2.52040183e+01, -8.27872081e+00,  2.05595522e+01,\n",
       "        3.95508798e+00, -5.12450078e+00, -6.67380123e+00, -8.93241222e+00,\n",
       "       -2.91726204e+00,  5.92774532e+00,  1.48282938e+01, -9.90965164e+00,\n",
       "       -1.82319182e+01,  2.55128421e+01, -8.17485095e+00,  1.30868685e+01,\n",
       "       -3.43341911e+01,  9.57531213e+00, -7.09681985e+00, -3.91963165e+00,\n",
       "        1.11183129e+00,  2.69408763e+00,  1.87553023e+00, -5.96652131e-01,\n",
       "        9.05481217e+00, -1.68459035e+01, -1.52274769e+01,  1.14504571e+01,\n",
       "       -5.41573877e+00, -3.22408921e+01,  1.52098103e+01,  1.41388431e+01,\n",
       "       -1.04411869e+00, -5.78337762e+00, -5.60561655e+00, -7.41767885e-01,\n",
       "       -5.49165870e+00, -5.80108401e-01, -5.41370233e+00,  6.90370783e+00,\n",
       "       -1.39966942e+01,  6.42422947e+00,  7.18751359e+00,  9.28407278e-01,\n",
       "       -4.62981229e+00,  4.71319067e-01, -2.94628236e+00,  2.07121533e+00,\n",
       "       -2.74561070e+00,  2.39926819e+00,  1.64038075e+00,  6.84428136e+00,\n",
       "        1.29002932e+00, -8.65361776e+00,  3.07172990e+00, -4.74936388e+00,\n",
       "        6.38192320e-01, -1.58412229e+00, -9.60876908e-01, -6.39667211e+00,\n",
       "       -4.74932481e+00, -1.00689180e+01,  5.59171185e+00,  2.56503481e+00,\n",
       "        2.16594112e+00,  3.28540124e+00,  1.08193622e+01,  1.37120003e+00,\n",
       "       -3.11216739e+00,  8.67018938e+00,  9.57543966e+00, -7.19428261e+00,\n",
       "       -4.88680875e+00, -3.61011959e+00, -1.57137425e+01, -3.01367750e+00,\n",
       "        2.25425241e+00, -1.43620790e+00, -7.30789629e+00,  3.99461324e+00,\n",
       "       -1.21818139e+01, -4.82459092e+00, -1.13260713e+01,  4.81251404e+00,\n",
       "        5.67023249e-01,  1.11433446e+01,  1.06977876e+01, -1.14825990e+01,\n",
       "       -4.47471995e+00, -1.01453273e+00, -1.03529508e+01,  8.03549012e+00,\n",
       "       -3.96152900e+00, -1.68238273e+01, -9.69540566e+00, -3.30493370e+00,\n",
       "       -2.44864953e+01, -2.35341150e+00,  3.71881787e+00,  3.83299341e+00,\n",
       "        1.92274359e+01, -8.97660999e+00,  2.37559806e+00,  3.11570424e+00,\n",
       "       -5.95281091e+00,  4.36562111e+00,  8.52669110e+00,  1.11549386e+01,\n",
       "        6.71393379e+00,  1.26284760e+01,  2.12541153e-01, -1.15956092e+01,\n",
       "       -1.34695406e+01, -9.40714789e+00,  2.64047689e+00,  3.98946594e+00,\n",
       "        5.27998720e-01,  5.27068024e-01, -1.39106588e+01,  2.38415479e+00,\n",
       "       -1.92186562e+01, -9.32882236e-01, -8.63764560e+00,  7.83787675e-01,\n",
       "        1.46204921e+01, -6.68986043e+00, -9.97483959e+00,  8.93161458e+00,\n",
       "       -1.73050611e+00, -2.82364951e+00, -1.26316000e+01, -1.42930083e+01,\n",
       "       -3.46521267e+00, -2.96764840e+01, -1.62632726e+00,  7.23757058e+00,\n",
       "       -1.59514753e+01,  5.48564275e+00,  1.58428021e+01,  2.33432121e+00,\n",
       "        2.29570985e+01,  2.02757281e+01, -2.69333908e+00, -1.30987561e+00,\n",
       "        1.04572934e+01, -7.32889103e+00,  1.30788593e+01,  8.60707666e-01,\n",
       "       -1.04505088e+01,  1.55748097e+01,  1.17096342e+01,  5.66942624e+00,\n",
       "       -8.88292343e-01, -5.74653472e+00,  1.10762091e+01,  8.70828585e+00,\n",
       "        7.56227070e+00,  1.06922193e+01, -8.84456067e+00, -1.99804865e+00,\n",
       "        3.50759034e+00,  5.57747818e+00, -8.08100906e-01, -1.38779418e+00,\n",
       "       -7.93717431e+00, -9.90817647e+00,  7.19152612e+00,  1.93287613e+00,\n",
       "       -8.52222960e+00,  4.99628245e+00,  3.06843400e+00,  5.04853758e+00,\n",
       "        3.48095049e+00, -9.75530603e+00,  1.54466913e+00,  1.03252747e+01,\n",
       "       -6.57714893e+00, -9.39439707e+00, -1.54538376e+01, -1.28698839e+00,\n",
       "       -3.71122023e-01, -8.89131051e+00, -2.93397557e+00, -4.47793402e+00,\n",
       "       -5.56434459e+00,  1.29039642e+01,  1.00699396e+01, -6.83232789e+00,\n",
       "        6.25991234e+00,  2.08054495e+00,  5.40589079e-01,  1.42127505e+01,\n",
       "       -7.99962894e+00,  1.11899221e+01, -1.21025869e+01,  6.99896303e+00,\n",
       "        2.41831177e-01, -6.22910622e+00, -8.95131883e+00,  8.20397328e+00,\n",
       "       -9.47942492e-01,  3.03641625e+00, -3.56200300e+00, -1.62520898e+00,\n",
       "        1.34252433e+01, -4.17201210e-01, -4.52721067e+00,  1.06259419e+01,\n",
       "        5.81085920e+00,  5.42273265e+00, -1.67184817e+01,  4.78334446e-01,\n",
       "       -4.97531945e+00, -1.40046809e+01, -1.73522244e+00,  1.03445865e+01,\n",
       "        7.84880714e+00,  1.33963078e+01,  4.33453728e+00,  7.62368687e+00,\n",
       "        1.93076498e+00,  8.19211127e+00, -5.71738395e+00, -3.15646975e+00,\n",
       "       -2.87205282e+00,  7.08035146e-01,  9.31840212e+00, -8.69188622e+00,\n",
       "        1.01806057e+01,  3.24445851e+00, -3.57638698e-01, -1.53664779e+00,\n",
       "       -1.42185907e+01, -4.81284896e+00, -1.04816067e+01, -1.39370642e+01,\n",
       "        8.06736726e+00, -1.01967739e+01,  3.00820645e+00,  2.13485717e+00,\n",
       "        5.13511538e+00,  1.06673281e+01, -5.81028194e+00, -6.40832963e+00,\n",
       "       -3.55038719e+00, -8.45129746e-01,  6.41999766e+00,  1.51814709e+01,\n",
       "       -1.21047172e+01,  1.61805214e+01, -1.34485629e+01, -2.02618655e+00,\n",
       "       -1.28639960e+01,  1.56525867e+01,  2.07566161e+00, -3.85903034e+00,\n",
       "       -1.21852806e+01,  9.21967946e+00, -1.83484476e+01, -5.78376024e+00,\n",
       "       -2.74482087e+01,  2.31257748e+01,  5.84490481e+00, -2.74085146e+01,\n",
       "        1.84863828e+01, -1.24031927e+01,  3.18766822e+00, -3.20433957e+00,\n",
       "        7.27019334e+00,  1.40107862e+00, -9.68195439e+00,  1.20764897e+00,\n",
       "       -3.14135193e+00,  1.99683128e+00,  1.07055663e+00,  2.50736207e+00,\n",
       "       -8.54015440e+00, -1.28927084e+01, -9.95002433e+00, -1.44253592e+01,\n",
       "       -2.48229146e+01,  1.97335400e+01, -7.17627038e+00,  7.65212283e+00,\n",
       "        8.44142316e+00,  1.04498014e+01,  8.14522717e+00,  1.82324612e+01,\n",
       "       -1.41619619e+01,  7.32899223e+00, -3.51470636e+00, -4.35279545e+00,\n",
       "        9.14632000e+00, -9.64654089e+00,  4.65479935e+00, -1.27212468e+01,\n",
       "       -2.89449846e+01,  2.88163068e+01,  1.47581041e+01,  2.23809000e+01,\n",
       "        1.36773835e+01, -3.10684757e+01, -3.36136614e+00,  1.94427592e+00,\n",
       "       -8.44518654e+00, -9.75713799e+00,  8.51103571e-01, -1.00749416e+01,\n",
       "       -1.61612239e+00, -1.43217299e+01,  8.33950619e-01, -3.52173140e-01,\n",
       "        5.00833285e+00, -1.33834451e+01, -9.33732521e+00,  1.51366668e+01,\n",
       "       -7.07735962e+00, -1.99110893e+01, -4.92063653e+00,  2.14146857e+01,\n",
       "        2.37411468e+01, -7.54293957e+00, -3.00110245e+01, -9.85685560e+00,\n",
       "       -2.61121670e+00, -1.96916709e+01, -5.08738982e+00,  1.01134201e+01,\n",
       "        3.38641784e+00,  2.11020660e+01, -5.45913912e+00,  1.55360762e+01,\n",
       "       -3.58644004e+00,  1.11209211e+00,  2.16108507e+01,  2.06731545e+01,\n",
       "        4.06047078e+01, -2.31917197e+01, -1.26933871e+01, -1.55880736e+01,\n",
       "       -1.01722946e+01,  7.38844533e+00,  1.96516337e+01,  1.23212264e+01,\n",
       "       -6.96422266e+00,  1.44713058e+00,  1.58228497e+01,  7.92121692e+00,\n",
       "        1.58717861e+00,  5.49502194e+00, -4.93349163e+00,  1.60246564e+01,\n",
       "       -9.40319439e+00,  9.41379491e+00,  1.73728287e+01,  2.27224010e+01,\n",
       "        7.96566473e+00,  3.12776074e+00,  3.14560393e+00, -8.49524063e+00,\n",
       "       -1.20032936e+01, -5.79787056e+00, -1.75015981e+01, -3.18175228e+00,\n",
       "        6.67927920e+00, -5.22200716e+00,  6.60514815e+00, -6.31244816e+00,\n",
       "        5.61602777e+00, -7.28983074e+00,  6.10206227e+00,  2.01786810e+00,\n",
       "        3.03579200e+00, -2.41519643e+00,  6.41692434e+00, -2.76360485e+00,\n",
       "        3.46768601e+00,  5.40505045e+00, -1.67810276e+00,  6.21093448e+00,\n",
       "        1.30573645e+00,  4.68973889e+00,  2.99184433e+00,  5.81809300e+00,\n",
       "        6.69662976e+00, -5.62106086e+00, -1.58316950e+01,  8.36966644e+00,\n",
       "       -1.40855829e+01,  3.58166976e+00, -9.69855260e+00, -5.53835187e+00,\n",
       "        1.02116410e+01,  6.62206596e+00,  1.04786714e+01,  3.08609493e+01,\n",
       "        8.34499054e+00, -1.52232114e+01,  1.51007769e+01,  1.37011466e+01,\n",
       "        3.39114514e+00,  1.04954276e+01, -8.10488091e+00, -7.18922507e+00,\n",
       "        1.36335045e+01,  2.74987115e+01,  2.36223896e+01, -5.21478290e+00,\n",
       "        1.11612841e+01, -1.28296145e+00,  4.94581817e+00, -5.62812674e+00,\n",
       "       -1.15296452e+01,  2.93753484e+01, -2.13864264e+01,  1.41833402e+01,\n",
       "        2.18442660e-01, -6.50773925e+00,  1.04820236e+01, -1.70507042e+00,\n",
       "       -1.57588395e+01,  7.09468514e+00, -1.37033704e+01,  2.31693181e+01,\n",
       "       -9.90692118e+00, -3.05454936e+01, -1.26708189e+01, -1.50856986e+00,\n",
       "       -2.79204422e-01,  1.03021471e+01, -5.38712851e+00,  6.36796616e+00,\n",
       "       -8.34116898e+00, -1.86620770e+00,  8.11879360e+00,  1.15298942e+01,\n",
       "        2.64380956e+00,  5.14685271e+00,  3.07200940e+00,  2.93044757e+00,\n",
       "        2.05854236e+00,  9.52601599e-01,  3.48882972e+00, -8.15275471e+00,\n",
       "       -8.92463696e+00, -8.64782461e-01,  1.46788767e+01, -7.33643319e+00,\n",
       "        1.18122285e+01,  1.35003833e+01, -2.39894373e+01, -9.63833513e+00,\n",
       "       -1.36890679e+01, -6.31214577e+00, -6.39240704e-01, -1.94177557e-01,\n",
       "       -5.38940535e-01, -1.18776229e+01,  3.43851255e+00, -7.59768541e+00,\n",
       "        5.97817199e+00,  1.11335053e+01,  7.94683764e+00,  9.49538069e+00,\n",
       "        2.07038097e+01, -1.71650540e+01,  4.58065416e+01,  5.65407670e+00,\n",
       "        6.67883335e+00, -1.50915705e+01, -9.64997809e+00, -1.34348023e+01,\n",
       "       -1.65498676e+01,  1.61624051e+01, -1.40491335e+01,  1.19506259e+01,\n",
       "        2.74974800e+00,  5.81510852e+00,  1.60260469e+01, -1.52537416e+01,\n",
       "       -1.29782883e+01, -1.23307106e+00, -1.48618582e-01,  8.30828430e+00,\n",
       "       -4.44960390e+00,  3.06445946e+00,  1.91422501e+00,  3.86305848e+00,\n",
       "        4.32839240e+00, -6.31970154e+00, -1.38408631e+01,  1.13362036e+01,\n",
       "       -8.05871323e+00, -1.33210586e+01, -9.18503583e+00, -9.01196257e+00,\n",
       "       -2.26735775e+01,  2.92412925e+00, -8.49917926e-01,  1.30624682e+01,\n",
       "        6.10501219e+00,  4.45777738e+00,  1.02920132e+01, -7.12227578e+00,\n",
       "        6.10796598e-01, -1.27171396e+00, -2.15583853e+00,  6.67351952e-01,\n",
       "        9.73877108e+00, -7.62910193e+00, -1.71454175e+00, -2.20352681e+00,\n",
       "        1.25282984e+00,  8.67564404e+00, -7.93728395e+00,  7.04821501e+00,\n",
       "        1.95983342e+01, -1.02973754e+00,  1.24062606e+01, -1.08490526e+01,\n",
       "       -2.15842864e+00, -4.89650800e+00,  1.49354344e+01, -8.77176828e+00,\n",
       "       -7.78577413e+00, -4.98859435e+00,  2.60596707e+00,  4.98681178e+00,\n",
       "        3.34847116e+00,  1.28115057e+01, -1.28594005e+01, -3.29885856e-01,\n",
       "        2.77901919e+00,  5.27363121e+00, -2.87840947e+00,  4.67545524e+00,\n",
       "        3.84799398e+00, -5.38602997e+00, -3.79131950e+00, -3.61068323e+00,\n",
       "        4.14320953e+00, -2.72873349e+00,  1.38630370e+01, -2.82581137e+00,\n",
       "        2.11259566e+00,  1.48491581e+00, -6.25973534e+00,  6.94654072e+00,\n",
       "       -1.16781020e+01,  8.95843868e-01, -8.23913379e+00,  3.82055549e+00,\n",
       "       -8.27159561e+00, -7.72613829e+00, -9.56017381e+00,  1.51290748e+01,\n",
       "       -2.25869745e+00, -8.87948505e+00,  2.37795712e+00, -3.24095746e+00,\n",
       "       -9.79781994e-01, -6.66133695e-01,  2.53730756e+00,  2.32153850e+00,\n",
       "        9.44087102e+00,  9.64285667e+00, -1.15280143e+01, -1.11985764e+01,\n",
       "        8.62474879e-01, -6.31727982e+00, -4.48771185e+00,  9.30051620e+00,\n",
       "       -5.76534828e+00,  1.62807324e+01, -1.08922178e+01, -4.96128808e+00,\n",
       "        4.21212053e+00,  9.57954326e-01, -6.65527968e+00, -8.56044494e+00,\n",
       "       -5.50361266e+00, -2.98903478e+00,  1.11739374e+01,  1.34880635e+01,\n",
       "        5.57809303e+00,  5.03019946e+00,  2.22451720e+01,  4.17801253e+00,\n",
       "        7.01286008e+00, -9.03366064e+00,  1.15607884e+01, -7.60220271e-01,\n",
       "        1.85967241e+01, -3.49736220e+00,  5.30492149e+00,  1.84350446e+01,\n",
       "        1.49755752e+00, -9.61679526e-01, -2.00156973e+01,  9.93196931e-01,\n",
       "        9.20531383e+00, -8.16315539e+00,  1.41954451e+01,  2.79676486e+00,\n",
       "        1.07991310e+00, -1.69155635e+00, -3.48914557e+00,  4.69813169e+00,\n",
       "       -1.83829166e+01, -9.61701201e-01, -1.24706852e+01, -1.22832671e+00,\n",
       "        5.55368791e+00, -3.01538747e+00, -6.60320530e+00,  9.35899483e+00,\n",
       "       -6.99637738e+00, -6.74228970e-01,  8.30484058e+00, -7.62941782e+00,\n",
       "        7.45219588e-01, -1.11400543e+01,  1.11104222e+00, -6.38989352e-01,\n",
       "       -4.44108171e+00, -2.66995510e+00,  1.47379781e+01, -1.81511560e+01,\n",
       "       -5.69924061e+00,  1.82466331e+01,  1.25456639e+01, -2.36373090e+01,\n",
       "       -4.12459253e+00, -2.13879416e-01, -5.35041874e+00, -1.35258438e+01,\n",
       "       -9.52776334e+00, -7.33864742e+00, -4.97407466e+00,  7.14097916e+00,\n",
       "        2.56941302e+01,  7.68291993e+00, -2.43636085e+01, -4.17740607e+00,\n",
       "       -6.39784150e+00,  1.41203498e+00, -1.33633262e+01,  1.32446903e+01,\n",
       "       -1.71196779e+01, -2.00695130e+01, -1.53330869e+00, -1.08955015e+00,\n",
       "        4.48171288e+00,  1.03719743e+01,  1.45398692e+01,  1.88056158e+01,\n",
       "       -9.68425996e+00, -1.66801045e+01,  1.84140987e+01, -2.19066391e+01,\n",
       "        4.76366036e-01, -1.50450532e+00, -4.64111717e-01, -1.36548854e+00,\n",
       "       -1.54036318e+00, -1.86913067e+01,  8.29431749e+00,  1.29307161e+00,\n",
       "        6.27346719e+00, -7.61080291e+00,  8.50716791e+00, -8.45165873e-01,\n",
       "       -6.40761559e+00,  8.01177394e+00,  1.58678941e+01, -1.94636729e+00,\n",
       "        4.75409949e+00, -9.13569089e-01, -1.18766305e+01, -8.05697381e+00,\n",
       "        7.10313426e-01,  4.97296514e+00,  2.49074728e+00,  4.48434843e+00,\n",
       "       -2.24669573e-01, -3.18162216e+00, -3.41439295e+00, -3.12514815e-01,\n",
       "        4.75584797e+00,  2.05827553e+00,  5.29246665e-01,  4.19297436e-01,\n",
       "        8.42038438e-01, -1.11587662e+01, -2.77023369e+00, -3.53912386e+00,\n",
       "       -1.32592068e+01, -1.45493661e+00, -5.84239734e+00,  8.16023275e-01,\n",
       "        4.54205301e-01,  7.94731114e+00, -1.82577211e+01,  1.62838675e+00,\n",
       "        1.82599192e+01, -9.36777925e+00, -3.60271698e+00,  9.81568424e+00,\n",
       "       -1.47267160e+01, -1.42729493e+01, -1.45795576e+01, -3.36650279e+00,\n",
       "       -1.29840011e+00,  1.10525524e+01, -1.05084467e+01,  4.89768659e+00,\n",
       "       -2.56162836e+00,  9.34514174e-02,  9.60147927e-01,  8.65991856e+00,\n",
       "        1.61472155e+01,  1.81946119e+01,  4.58650142e+00, -2.41565975e+00,\n",
       "       -3.29844470e+00,  4.16844110e+00,  4.53490522e+00, -1.32481515e+01,\n",
       "        1.83066374e+00,  6.59449870e-01,  3.40398518e+00, -4.72541512e+00])"
      ]
     },
     "execution_count": 31,
     "metadata": {},
     "output_type": "execute_result"
    }
   ],
   "source": [
    "# with perm\n",
    "p, l, u = scipy.linalg.lu(A, permute_l=False)\n",
    "y = solve(u, b)\n",
    "x = solve(l, y)\n",
    "x"
   ]
  },
  {
   "cell_type": "code",
   "execution_count": 32,
   "metadata": {},
   "outputs": [
    {
     "data": {
      "text/plain": [
       "array([ 9.31864314e-01, -1.60659535e-01, -1.69611339e+00,  1.47842266e+00,\n",
       "       -1.43411309e+00,  3.74244188e-01, -1.50874120e+00, -1.09524238e+00,\n",
       "       -3.52174225e-01, -6.01848641e-01, -1.97749930e+00, -7.77226828e-01,\n",
       "        2.28581629e+00, -1.87519308e+00,  3.00979449e+00,  1.62670710e+00,\n",
       "       -3.89457488e-01,  8.00791993e-01, -8.08412249e-01, -1.01109929e+00,\n",
       "        1.35853227e+00, -1.42132126e+00,  4.39390667e-01, -1.50806217e+00,\n",
       "       -2.24144961e-01, -9.13384282e-01,  8.64938184e-01,  4.92844671e-02,\n",
       "        1.50650741e-01,  3.62094768e-02, -5.88754037e-01, -2.78509630e-01,\n",
       "        6.72971805e-01,  9.71176234e-01, -1.28769778e+00,  2.19462755e+00,\n",
       "       -1.63168218e+00, -3.88229956e+00,  2.32607622e+00,  1.29678930e-01,\n",
       "        4.58593119e-01,  4.78862086e-01,  1.66722838e+00, -7.00272652e-01,\n",
       "       -3.79034094e-02, -1.26373727e+00, -1.79061159e+00,  5.20777234e-01,\n",
       "       -8.86640180e-01, -3.73117534e-01,  3.81023281e-01,  1.76672487e+00,\n",
       "       -1.09433382e+00,  2.51042082e+00, -2.73298466e+00,  7.24926540e-01,\n",
       "       -2.95497110e-01,  3.70737959e-02, -5.17542071e-01,  1.12338556e+00,\n",
       "        8.78572646e-02,  1.07872892e+00,  2.05482177e+00, -1.52863394e+00,\n",
       "       -1.53741349e+00, -1.79643948e+00,  7.99632427e-01, -2.97756298e+00,\n",
       "        7.79852835e-01, -5.96004140e-01,  5.58752129e-01,  1.47562202e+00,\n",
       "        1.06335499e+00,  1.28448551e+00,  3.56869765e-01,  6.36944029e-01,\n",
       "       -1.58774331e+00,  2.30526609e-01,  1.89949503e+00,  3.26727427e+00,\n",
       "       -1.57458817e-02, -2.35113140e+00, -2.12383467e+00, -3.53985400e-01,\n",
       "       -3.57271475e+00, -3.39234088e+00, -1.60326992e+00, -1.64619267e+00,\n",
       "       -4.32098739e+00, -3.31301228e+00,  2.49217305e+00, -4.34459274e+00,\n",
       "        7.54590588e-01,  3.65811555e+00,  6.73587094e+00, -4.97748116e+00,\n",
       "        3.73641123e+00,  9.11791474e-01, -1.42693057e+00,  3.85603962e+00,\n",
       "       -2.72308819e+00,  1.66567506e-01,  1.82093673e+00,  1.31697530e-01,\n",
       "        6.00074410e-01, -4.17085952e+00,  2.16509880e+00, -1.55978317e+00,\n",
       "        2.95310305e+00, -1.14371639e-01,  3.40419972e+00,  4.83013094e+00,\n",
       "        2.60415525e+00,  5.94470579e+00, -4.99474868e+00, -5.05163230e+00,\n",
       "        2.58991260e+00,  1.32848994e+00, -4.76852228e+00, -6.86739444e+00,\n",
       "        1.47863346e+00,  1.55265086e+00,  3.18339213e+00,  5.79549241e+00,\n",
       "       -7.20560264e-01, -4.12725635e-02, -3.47034320e+00, -1.47261699e+00,\n",
       "       -3.42529448e+00,  1.36299439e+00, -4.89251252e+00,  3.55293779e+00,\n",
       "        1.91143076e+00,  6.12663639e-02,  1.31297169e+00, -2.83524036e+00,\n",
       "        1.39502401e+00,  3.91643801e+00,  3.09997297e+00,  3.73190860e+00,\n",
       "        4.36024836e+00, -1.08791380e+00, -3.28045110e+00, -1.64931624e+00,\n",
       "       -2.56508299e+00, -4.48273256e+00,  2.54579286e+00, -2.61332693e+00,\n",
       "        5.21291190e-01,  4.20776897e+00,  1.14136121e+00,  1.03491628e+01,\n",
       "       -1.06438248e+01, -1.86606704e+00, -5.16183633e+00, -8.55534286e+00,\n",
       "        2.25485405e+00,  4.85529950e+00, -7.08791856e+00, -5.20514224e+00,\n",
       "        1.51580393e-01,  5.21656503e-01, -1.61556685e+00, -3.27143719e+00,\n",
       "        4.20475334e+00, -3.98344723e+00, -2.12017415e+00, -1.81458144e+00,\n",
       "       -4.71942134e+00, -6.83457804e-01,  2.78542728e+00,  1.06081737e+00,\n",
       "       -1.10227392e+00, -7.59226555e-01, -2.73789776e+00, -2.52393876e+00,\n",
       "        2.52247436e+00, -8.88822955e-01,  1.50441023e+00,  1.40039145e+00,\n",
       "        3.43658598e+00,  5.97032289e-02,  4.69955062e+00, -6.89985412e+00,\n",
       "        2.95476442e+00,  5.12237066e+00, -8.90735468e-01,  1.44391296e+00,\n",
       "       -1.09380874e+00,  5.00180096e+00,  1.15806055e-01,  8.18614643e+00,\n",
       "       -1.06366215e+00,  7.32932136e+00, -1.70209559e+00, -3.83075727e+00,\n",
       "        4.69424477e+00, -2.48829210e+00,  8.61314492e-01,  4.22777644e+00,\n",
       "        4.96754225e-01,  1.60757483e+00,  2.86810328e+00,  5.61785575e+00,\n",
       "       -3.52292810e+00, -3.67055432e+00,  9.80153675e-01,  1.28898997e+00,\n",
       "        2.39336097e+00,  4.66041317e-01, -2.05608390e+00,  3.66102959e+00,\n",
       "       -4.60677362e-01,  2.56235525e+00,  4.33579467e+00, -3.62787338e+00,\n",
       "        3.40317871e-01, -2.50832764e+00,  4.27784941e+00, -2.59979112e-01,\n",
       "        1.35232286e+00,  2.17955306e+00,  2.25030879e+00,  9.60767612e-01,\n",
       "        3.91512447e+00,  2.35428590e-01,  7.74094691e+00,  1.17959099e+00,\n",
       "       -5.34676373e+00, -1.80799669e+00, -2.08554266e+00, -1.68050345e-01,\n",
       "        1.15398862e+00, -6.44529935e+00,  5.71705437e+00,  3.55065744e-01,\n",
       "       -2.88469161e-01,  1.91562363e+00,  2.89798106e+00,  3.05562902e+00,\n",
       "       -2.84287048e+00,  8.40307826e-01, -1.53274720e+00, -3.01992988e+00,\n",
       "       -7.65546228e-01, -4.78225252e+00, -1.79744153e+00,  1.80904164e+00,\n",
       "       -5.43190603e-01,  1.39245110e+00, -4.98131041e+00, -2.18833308e+00,\n",
       "        4.34189262e-01,  4.34909007e-01,  1.19035833e+00,  2.52596872e+00,\n",
       "       -5.07028507e+00, -2.23752135e+00,  5.22091362e+00, -5.12795338e+00,\n",
       "       -8.13379533e+00,  4.26343173e+00, -1.23992981e+01,  4.15488857e+00,\n",
       "        1.30978767e+00,  1.04562452e+01,  9.09227325e+00,  2.01435361e+00,\n",
       "        3.70520201e+00,  6.92672171e+00,  4.14806529e+00, -1.08274654e+01,\n",
       "        4.18002948e+00, -5.59793070e+00,  5.93445951e+00,  4.81355947e+00,\n",
       "       -5.62710068e+00,  2.70779789e+00, -4.59068767e+00,  8.16972961e-01,\n",
       "        5.12862293e+00, -4.38500766e+00, -1.16136337e+00, -1.30598201e+00,\n",
       "        1.24872502e+01,  2.80440554e+00,  9.78239236e+00,  2.91529784e+00,\n",
       "        3.33875484e-01,  8.46650528e-01,  2.95149779e+00,  8.60112929e-01,\n",
       "        3.91530595e-01,  4.98802982e+00,  2.55320950e+00, -4.69298599e+00,\n",
       "       -1.68523600e+00,  6.52914677e+00, -8.29956185e-01, -6.79005261e+00,\n",
       "        2.74481242e-01,  3.91094102e-01, -4.84809286e+00, -7.85259063e+00,\n",
       "       -2.70883844e+00,  4.71964168e+00,  4.68855578e+00, -6.87830141e+00,\n",
       "        9.98963101e+00, -8.15847198e+00, -5.25200492e+00,  4.78054956e-01,\n",
       "       -5.60681497e-01, -5.52559318e+00,  1.26483895e+00, -1.63662687e+00,\n",
       "       -3.84417897e-01,  8.49214755e-01, -1.85792090e+00, -6.92426894e-01,\n",
       "       -4.45946945e+00, -2.33285402e+00,  5.21616861e+00, -1.27418281e+00,\n",
       "       -9.69157252e-01, -2.65462548e+00, -4.61880445e-01,  1.63025126e+00,\n",
       "       -7.47900243e-01,  2.87195519e+00, -1.52591067e+00,  3.23676470e+00,\n",
       "        5.60611809e+00,  1.88699172e+00,  2.84487106e+00, -4.15516017e+00,\n",
       "        8.01106246e-01, -1.58270649e+00, -2.37513663e+00, -5.05369459e-01,\n",
       "       -7.47672790e+00,  3.43863313e+00,  1.35238431e+01,  1.30402017e+01,\n",
       "        5.17805101e+00,  1.20642308e+01,  5.59850662e-01, -1.88807262e+00,\n",
       "        1.91718622e+00,  3.04102738e+00,  1.08225913e-01, -1.05771108e+01,\n",
       "        5.83821421e+00, -6.46623220e+00, -6.89078721e+00,  1.24639559e+00,\n",
       "        1.04107160e+01,  3.20731709e+00, -1.73456718e+00, -2.88656474e-01,\n",
       "        3.40112702e+00,  7.59368897e+00,  1.54298073e+01,  4.94195160e+00,\n",
       "        2.04394493e+00, -8.29643238e+00, -3.42152574e+00,  9.52065142e-01,\n",
       "       -2.89772155e+00, -1.62646162e-02,  3.05612790e+00, -1.57235251e+00,\n",
       "        3.93478344e+00,  2.08801546e+00,  1.67779512e+00, -4.45543427e+00,\n",
       "        1.32189288e+00,  2.15033208e+00, -3.95246303e+00,  9.91028797e+00,\n",
       "       -1.61938356e+00,  5.92645766e+00, -4.63877463e-02, -3.32945691e+00,\n",
       "       -2.49414293e+00, -4.86582532e+00, -3.96402158e+00,  7.66932384e-01,\n",
       "        9.88959670e+00, -2.01943820e-01,  5.76051040e+00, -6.20674136e+00,\n",
       "       -6.20317220e+00,  4.43805874e+00,  5.91243220e+00, -1.54574421e+00,\n",
       "        5.24597391e+00, -6.25197145e+00,  1.16046615e+01,  4.18605203e+00,\n",
       "       -5.02554275e+00,  1.05839178e+01, -1.65434061e+00,  5.82546033e+00,\n",
       "        3.76289769e+00, -5.50200552e+00, -6.82479173e+00,  1.31487082e+00,\n",
       "        1.50696381e+00, -3.61116659e+00, -8.16213879e+00,  1.05526186e+01,\n",
       "        1.98468909e+00,  2.84796810e+00, -1.02086048e+00, -6.51707275e+00,\n",
       "        2.50507713e+00, -2.39725841e+00,  8.71077406e+00, -3.86839458e+00,\n",
       "        1.10679731e+00, -6.63867431e+00,  7.15535049e+00,  4.06248935e-01,\n",
       "       -7.81139653e+00,  5.02363701e+00, -8.12609843e+00,  2.51775004e+00,\n",
       "       -7.94175039e+00, -2.22400220e+00,  1.03509095e+01,  7.06327756e+00,\n",
       "        2.45036701e+01,  3.01391375e+00,  1.45006995e+00, -8.10830464e+00,\n",
       "       -1.56295687e+00,  4.76252692e+00,  1.51347656e+01, -1.23605424e+00,\n",
       "       -1.12629445e+01,  5.08808040e+00,  6.31927820e+00,  7.87977920e+00,\n",
       "        8.56943147e-01, -9.37123991e+00, -2.36647209e+00, -9.56035291e+00,\n",
       "        4.18986349e+00,  3.86522373e+00, -6.80175662e+00, -8.14114650e+00,\n",
       "       -7.74293575e+00, -8.08885814e+00,  5.26506555e-01,  4.07856534e+00,\n",
       "       -2.53269782e+00, -9.25976749e+00, -4.16484560e+00,  2.89131143e+00,\n",
       "       -2.54503211e+00,  1.55479612e+01, -3.60733678e+00,  1.05608217e+01,\n",
       "        7.99128000e-01,  3.07255634e+00,  3.51707946e+00,  3.45097919e+00,\n",
       "       -2.84317298e+00,  3.80982664e+00,  3.95477255e+00, -1.18725266e+01,\n",
       "       -2.48113260e+00, -3.68692999e+00,  8.54457265e+00,  4.98361520e+00,\n",
       "       -6.58078941e+00,  1.71474950e+00,  1.44065365e+01, -9.63855705e+00,\n",
       "        9.17855363e+00,  9.36423491e+00,  7.67780704e+00, -2.39458832e+00,\n",
       "        2.57689322e+00, -1.23456605e+01, -1.06266076e+01, -5.41153682e+00,\n",
       "       -6.76205870e-01,  4.37872539e+00,  4.98519901e+00,  7.05059759e+00,\n",
       "       -3.67648572e+00, -1.35044215e+01, -1.59472174e+01,  6.02714254e+00,\n",
       "       -9.72541569e+00, -1.13048602e+01,  5.35945360e+00, -5.93805461e+00,\n",
       "        3.07263050e+01,  4.80092807e+00,  1.84924163e+00,  1.24057779e+01,\n",
       "        4.27553157e-01,  3.24823462e-01, -8.43649357e+00, -7.36783836e+00,\n",
       "        1.91110866e+01, -9.57879757e+00, -1.20875844e+01,  4.27468923e+00,\n",
       "       -3.39297845e+00,  1.34336222e+01, -1.29994436e+01, -4.71086215e+00,\n",
       "       -7.49504758e-01, -7.89227842e+00,  8.21056433e+00,  5.36991714e+00,\n",
       "        1.33817782e+01, -1.22157133e+01,  5.99306278e+00,  1.66630799e+00,\n",
       "        8.44358906e-01, -1.30125140e+01,  2.48598024e+00,  2.60330537e+00,\n",
       "        9.84414322e-01, -7.77611081e+00, -4.25293117e+00,  6.55747921e+00,\n",
       "        1.57039152e-01,  5.05934563e+00, -8.51997809e-01, -3.13951893e+00,\n",
       "       -1.58658977e+00, -1.85381519e+00,  7.56363385e-01,  9.09333083e+00,\n",
       "       -3.14412882e+00, -1.12846940e+01, -7.16420180e-01,  2.38744185e+00,\n",
       "       -5.83599919e+00,  1.79317617e+00, -3.19797623e+00,  1.59325836e+00,\n",
       "       -2.91445628e+00, -2.41519778e+00, -1.09026934e+01, -1.06632407e+01,\n",
       "       -4.15605333e+00,  5.77829185e-01,  6.66829048e+00,  2.02000102e+00,\n",
       "       -6.89094361e+00, -4.96380392e+00,  3.43469051e+00,  3.49772616e+00,\n",
       "       -8.57472305e+00,  8.56912085e+00, -1.53097911e+01,  4.81215752e+00,\n",
       "        1.43389398e+01, -2.25512179e+01, -1.48559328e+00, -8.08455989e+00,\n",
       "       -6.37842120e+00,  2.96995459e+01, -5.10033714e+00, -2.98139107e+00,\n",
       "       -8.77748504e+00,  1.22199543e+01, -2.39597544e+00,  1.55568889e+01,\n",
       "       -8.80503895e+00,  4.40320116e-01, -1.99891100e+00,  7.76542559e+00,\n",
       "       -3.36574547e+00,  1.71846215e+01,  1.00645362e+01, -1.35137274e+01,\n",
       "        2.47289393e+00, -5.35667084e+00,  2.08074592e+01, -2.19798276e+01,\n",
       "       -3.50904599e+01,  3.06465207e+01,  9.40452212e+00, -1.89986233e+01,\n",
       "        9.20154937e+00,  1.34866225e+01, -5.68446236e+00, -1.53241946e+01,\n",
       "        1.37881058e+01, -1.58709891e+01,  4.34932889e+00, -9.43894182e+00,\n",
       "        1.81653804e+01,  1.90998535e+00, -3.67463862e+00, -1.59926511e+01,\n",
       "       -2.63784043e+01,  1.45175652e+01,  8.47735751e+00,  2.85043466e+00,\n",
       "        2.26523282e+00,  1.66400510e-02, -6.83049112e+00,  1.31032818e+00,\n",
       "        1.39304952e+01, -2.66656972e+00, -8.14382916e+00, -2.50934088e+00,\n",
       "       -1.64710254e+01, -2.02072693e+01, -1.51014776e+01, -1.06672547e+01,\n",
       "       -7.28010889e+00, -1.39632074e+01,  1.56209857e+00, -1.28233009e+01,\n",
       "        3.21853474e+00,  6.84475435e+00,  3.99805487e+00, -2.89748019e+00,\n",
       "       -3.97224823e+00, -9.82436588e-01, -1.35959951e+00,  1.02192973e+01,\n",
       "        4.30694683e+00,  3.44262229e+00,  6.44162853e+00, -8.13506375e-01,\n",
       "       -2.02154432e+00,  4.94896226e+00,  2.25576731e+00, -6.03938824e+00,\n",
       "       -4.70252562e+00, -4.69211451e+00, -4.39513679e+00, -7.82068876e-01,\n",
       "        3.60683846e+00, -9.95428648e+00,  5.31313362e+00, -1.41876307e+01,\n",
       "        4.43290355e+00,  2.79739941e+00,  5.50602251e+00, -8.18253206e+00,\n",
       "        8.46958628e+00, -1.99477171e-01, -1.91850621e+01, -1.43836718e+01,\n",
       "       -1.80725525e+01,  2.32670968e+01, -2.28933738e+01,  1.80830793e+01,\n",
       "       -5.80009981e+00,  1.98001929e+01,  3.01002746e+00,  1.14889949e+01,\n",
       "        5.46707420e+00, -9.46917839e+00,  3.75346279e+00,  2.82214820e+00,\n",
       "        7.88538937e+00, -8.50218925e+00,  1.38054046e+01,  2.75601722e-01,\n",
       "        1.20850457e+01, -3.42275152e+00,  7.99413410e+00,  2.47441859e+01,\n",
       "       -1.37237130e+01, -1.33410462e+01,  8.88999364e-01,  1.29527140e+01,\n",
       "       -3.84381997e+00,  4.71023211e+00,  3.76164668e+00, -2.62923291e+00,\n",
       "        1.99361872e+00, -2.08757124e+01,  9.30278853e+00,  5.54191916e+00,\n",
       "       -1.03775173e+01,  6.96639856e+00,  6.11821778e+00, -1.31136479e+01,\n",
       "        1.57698763e+00,  7.95976883e+00,  1.99975778e+01,  3.15296530e+00,\n",
       "       -2.60701993e+00, -6.67337907e+00, -6.31579234e+00, -4.61786737e+00,\n",
       "        5.42955018e+00, -8.38313367e+00,  3.70318638e+00,  6.96207042e+00,\n",
       "       -1.17989609e+01, -7.55247881e+00, -5.24421278e+00,  5.29136252e-01,\n",
       "       -5.03590263e+00,  4.08702843e+00,  8.70074598e+00, -1.09246770e+01,\n",
       "        8.61002721e+00,  4.60456553e+00,  8.78516596e+00, -6.99925290e+00,\n",
       "       -7.17975272e+00, -7.13642697e+00, -6.79140722e+00,  3.82123375e+00,\n",
       "       -8.29154801e+00, -1.43997041e+01, -9.10845267e+00,  2.43331428e+00,\n",
       "        4.52940502e+00, -4.68511624e+00, -1.20670250e+00,  1.07795503e+01,\n",
       "        2.55012398e+00,  2.64868042e+00, -2.85920848e+00, -6.89881807e+00,\n",
       "        5.94929244e-01, -1.38952399e+00, -8.23237169e+00,  1.06428433e+00,\n",
       "        1.58535666e+01,  3.11460774e+00,  4.05183533e-01,  1.18878062e+00,\n",
       "       -1.30484741e+01,  5.62216815e+00,  1.74887360e+01,  1.56001590e+01,\n",
       "        1.40214028e+00,  2.31785882e+00,  1.03966136e+01, -8.96256387e+00,\n",
       "        6.95579528e+00,  1.07311601e+01, -1.11192637e+00,  4.85267062e+00,\n",
       "        3.10382831e+00, -6.87259495e+00, -1.01731033e+01,  6.80479794e+00,\n",
       "        6.73898700e+00,  4.48015693e+00,  1.64998517e+01,  5.96646382e-01,\n",
       "        8.06551790e+00,  4.33595539e+00,  1.83119063e+01, -2.70634701e+00,\n",
       "        6.28069728e+00,  2.40948164e-01, -8.90911985e+00,  1.95477753e+00,\n",
       "       -1.33068035e+00,  5.16460314e+00,  1.61109765e+01, -7.50889244e+00,\n",
       "       -1.22202876e+01,  1.34150270e+01,  4.26569361e+00, -3.33518731e+00,\n",
       "        7.27130226e-01,  6.29878954e+00, -5.24903292e-01, -3.18567532e-01,\n",
       "       -1.65852780e+00, -7.45594835e+00,  8.54710605e+00, -6.96446525e+00,\n",
       "       -1.96375000e+00, -1.92563742e-03, -9.44844534e+00,  7.01788726e+00,\n",
       "       -5.50652310e+00, -1.43211491e+00, -1.73927879e+00, -2.17261605e+00,\n",
       "        4.44775158e+00,  2.14758379e+00,  3.15411706e+00, -3.46014057e+00,\n",
       "        7.66599312e+00, -1.16746516e+01, -2.94128807e+00,  2.21622641e+00,\n",
       "       -3.88891077e+00,  5.64704773e+00, -3.26106842e+00, -5.60007452e+00,\n",
       "       -1.43610392e+01, -5.95522517e+00, -1.36476177e+01,  7.71741368e+00,\n",
       "        7.22558586e+00,  3.22457899e+00, -5.71454419e+00, -3.51115856e+00,\n",
       "       -4.60710725e+00,  3.51371305e+00,  4.02591203e-01,  9.64956210e+00,\n",
       "       -1.72522253e+00,  1.64092769e+00,  1.40739768e+01,  1.07210784e+01,\n",
       "        1.63660806e+01, -1.58744299e+00,  8.89337279e+00, -2.82657069e-01,\n",
       "       -4.06013053e+00,  3.47354257e+00,  1.53535990e+01, -9.73800482e+00,\n",
       "        1.57452939e+01, -2.90602754e+00, -4.64690100e+00,  1.61774910e+01,\n",
       "       -2.73108105e-01,  3.31615269e+00, -1.62282165e+01, -5.29708201e+00,\n",
       "        1.09472313e+01, -9.19198339e+00,  1.20089824e+01, -5.27892419e+00,\n",
       "        6.12890568e+00, -4.64807097e+00, -4.52395821e+00, -8.85701480e-01,\n",
       "       -3.73435458e+00, -1.11854782e+00, -9.66844299e-01, -1.28387002e+01,\n",
       "       -1.16642525e+01, -6.58238753e-01, -1.19783488e+00,  3.96446945e+00,\n",
       "       -1.51101293e+01,  1.01329867e+01,  6.18567995e+00, -1.72734877e+00,\n",
       "       -1.08268676e+01,  1.72575787e+01, -1.37322935e+01,  3.94349482e+00,\n",
       "        1.60788512e+00,  4.77258395e+00,  9.34490577e+00, -5.60591002e+00,\n",
       "        4.00492881e-01, -2.60715623e+00,  1.82287702e+01,  2.73500822e+00,\n",
       "        2.19306588e+00, -2.38832809e+00,  2.38281275e+01, -1.79793155e+01,\n",
       "        1.65289804e+01,  9.65802215e+00,  4.21973720e+00, -9.58791031e+00,\n",
       "       -5.76318742e+00, -6.54825671e+00, -2.03210398e+01,  4.39127392e+00,\n",
       "       -1.25328890e-01, -1.69638997e+00, -4.20825908e+00,  3.23313434e+00,\n",
       "        6.04024640e+00,  3.27881400e+00, -1.07035182e+01, -1.19428830e+01,\n",
       "        1.59066900e+01, -9.45306373e+00, -2.99826328e+01,  2.95173518e+01,\n",
       "       -1.60517272e+01, -6.00959566e+00,  1.59337960e+01, -2.47433852e+01,\n",
       "        7.39605552e+00, -3.92739467e+00, -2.68336268e+00, -1.65460556e+01,\n",
       "        1.10346731e+00,  5.03340358e+00,  8.94226828e-01,  4.04956851e-01,\n",
       "        6.40077781e+00, -2.87091811e+00, -9.61287467e-01, -5.69476111e+00,\n",
       "        2.08952624e+00,  5.01035762e+00,  1.62508358e+01, -5.00120978e+00,\n",
       "        9.33929447e+00,  2.14425778e+01, -3.70550799e+00, -1.14496704e+01,\n",
       "        1.55337099e+01,  2.48533694e+00, -4.91852341e+00,  1.23525343e+01,\n",
       "       -1.14791592e+01,  1.68867241e+01,  1.56878905e+01,  1.24497466e+01,\n",
       "       -2.00311910e+01, -1.17874584e+01,  1.21959481e+01, -2.38917123e+01,\n",
       "       -1.87161203e+01, -7.32111632e+00, -1.82762720e+00,  1.30254427e+01,\n",
       "        5.81927574e+00,  1.96215734e+01,  1.30932282e+01, -2.19534739e+01,\n",
       "       -2.32927127e+01,  9.51889548e+00, -9.19476623e+00,  7.19147475e+00,\n",
       "        1.92962176e+01, -1.67045132e+01, -1.41490963e+01,  6.10680350e+00,\n",
       "        5.23257756e+00,  1.97327358e+01,  2.89119600e+00, -1.51877709e+01,\n",
       "        2.10273301e+01, -6.67800991e+00,  2.08933055e+00,  8.69860217e+00,\n",
       "        6.33228446e+00, -8.74472870e+00, -8.33158897e+00, -2.22363804e+01,\n",
       "        4.53750245e+00,  1.54996662e+01, -2.41751626e+01, -9.25662959e+00,\n",
       "       -2.88850024e+01, -1.95503079e+01, -2.24166861e-01,  4.98486546e+00,\n",
       "       -1.76429962e+01, -2.55730716e+01, -9.37303493e+00, -5.05234099e+00,\n",
       "       -2.27034786e+01, -5.65865198e+00, -1.56203576e+00, -6.60725506e-01,\n",
       "        1.90212835e+01,  6.51464637e+00, -1.15199476e+01, -7.17278806e-01,\n",
       "       -2.37708635e-01, -6.00077846e+00, -1.23801308e+01, -4.91730637e+00,\n",
       "       -1.70410117e+00,  1.58782345e+01, -1.13350962e+01, -9.13797149e-01,\n",
       "       -2.47641955e+00, -3.18550702e+00,  2.03862033e+00, -2.95685943e+00,\n",
       "        6.70904114e+00,  4.89482358e+00,  3.22536790e-01, -1.32842578e+01,\n",
       "       -1.07051498e+01, -2.10492290e+00,  1.82414393e+01, -1.51272484e+00,\n",
       "       -1.51510483e+01, -1.46176873e+01, -9.16302786e+00,  1.09321428e+01])"
      ]
     },
     "execution_count": 32,
     "metadata": {},
     "output_type": "execute_result"
    }
   ],
   "source": [
    "# without perm\n",
    "l, u = scipy.linalg.lu(A, permute_l=True)\n",
    "y = solve(u, b)\n",
    "x = solve(l, y)\n",
    "x"
   ]
  },
  {
   "cell_type": "markdown",
   "metadata": {},
   "source": [
    "## 4. Załóżmy, że mamy teraz jedną macierz A (my użyjemy losowej) i bardzo wiele różnych warunków brzegowych B (my wylosujemy 1000). Spróbuj rozwiązać wszystkie układy równań powstałe z przyrównania tej samej macierzy A do wielu różnych wektorów B. Czy można zamiast korzystać wielokrotnie z funkcji solve() coś przyspieszyć? Np. korzystając z funkcji lu()?"
   ]
  },
  {
   "cell_type": "code",
   "execution_count": 55,
   "metadata": {},
   "outputs": [],
   "source": [
    "B = scipy.rand(1000, 100)"
   ]
  },
  {
   "cell_type": "code",
   "execution_count": 56,
   "metadata": {},
   "outputs": [
    {
     "name": "stdout",
     "output_type": "stream",
     "text": [
      "CPU times: user 8.2 s, sys: 2.42 s, total: 10.6 s\n",
      "Wall time: 2.97 s\n"
     ]
    }
   ],
   "source": [
    "%%time\n",
    "for i in range(B.shape[1]):\n",
    "    x = solve(A, B[:, i])"
   ]
  },
  {
   "cell_type": "code",
   "execution_count": 57,
   "metadata": {},
   "outputs": [
    {
     "name": "stdout",
     "output_type": "stream",
     "text": [
      "CPU times: user 516 ms, sys: 324 ms, total: 840 ms\n",
      "Wall time: 249 ms\n"
     ]
    }
   ],
   "source": [
    "%%time\n",
    "l, u = scipy.linalg.lu(A, permute_l=True)\n",
    "Y = solve(u, B)\n",
    "X = solve(l, Y)"
   ]
  },
  {
   "cell_type": "markdown",
   "metadata": {},
   "source": [
    "## 5. Duże macierze równań liniowych często powstają w problemach inżynierskich. Pobierz jedną z macierzy z kolekcji układów powstałych przy projektowaniu elementów samolotów Boeing (np. nr 38 ) i spróbuj wczytać ją jako macierz rzadką do ipython’a. Następnie rozwiąż ją dla losowych warunków brzegowych b."
   ]
  },
  {
   "cell_type": "code",
   "execution_count": 70,
   "metadata": {},
   "outputs": [
    {
     "data": {
      "text/plain": [
       "array([[(array(['STIFFNESS MATRIX, AIRPLANE ENGINE COMPONENT'], dtype='<U43'), <8032x8032 sparse matrix of type '<class 'numpy.float64'>'\n",
       "\twith 355460 stored elements in Compressed Sparse Column format>, array(['Boeing/bcsstk38'], dtype='<U15'), array([[343]], dtype=uint16), array(['1995'], dtype='<U4'), array(['R. Grimes'], dtype='<U9'), array(['T. Davis'], dtype='<U8'), array(['structural problem'], dtype='<U18'))]],\n",
       "      dtype=[('title', 'O'), ('A', 'O'), ('name', 'O'), ('id', 'O'), ('date', 'O'), ('author', 'O'), ('ed', 'O'), ('kind', 'O')])"
      ]
     },
     "execution_count": 70,
     "metadata": {},
     "output_type": "execute_result"
    }
   ],
   "source": [
    "from scipy import io\n",
    "sparse_A = io.loadmat('bcsstk38.mat')\n",
    "sparse_A = sparse_A['Problem']\n",
    "sparse_A"
   ]
  },
  {
   "cell_type": "code",
   "execution_count": 64,
   "metadata": {},
   "outputs": [
    {
     "data": {
      "text/plain": [
       "dict"
      ]
     },
     "execution_count": 64,
     "metadata": {},
     "output_type": "execute_result"
    }
   ],
   "source": [
    "scipy.sparse.linalg(sparse_A, )"
   ]
  },
  {
   "cell_type": "code",
   "execution_count": null,
   "metadata": {},
   "outputs": [],
   "source": []
  }
 ],
 "metadata": {
  "kernelspec": {
   "display_name": "Python 3",
   "language": "python",
   "name": "python3"
  },
  "language_info": {
   "codemirror_mode": {
    "name": "ipython",
    "version": 3
   },
   "file_extension": ".py",
   "mimetype": "text/x-python",
   "name": "python",
   "nbconvert_exporter": "python",
   "pygments_lexer": "ipython3",
   "version": "3.5.2"
  }
 },
 "nbformat": 4,
 "nbformat_minor": 2
}
