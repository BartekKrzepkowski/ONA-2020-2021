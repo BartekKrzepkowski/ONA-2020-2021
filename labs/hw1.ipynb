{
 "cells": [
  {
   "cell_type": "code",
   "execution_count": 7,
   "metadata": {},
   "outputs": [],
   "source": [
    "import numpy as np"
   ]
  },
  {
   "cell_type": "markdown",
   "metadata": {},
   "source": [
    "Oblicz wartość funkcji (pochodzącej od Siegfrieda Rump’a): $$f(x,y)= 333.75y^6+x^2(11x^2y^2-y^6-121y^4-2)+5.5y^8+\\frac{x}{2y}$$\n",
    "\n",
    "w punkcie x=77617, y=33096.\n",
    "\n",
    "Wykonaj obliczenia w pythonie2, pythonie3, np.float64, np.float32, np.float128 i module Fractions. Jakie błędy obliczeń tam zachodzą? Jeśli ktoś napisze program obliczający tę wartość prawidłowo, i prześle mi przez moodle program i prawidłowy wynik, to dostanie dodatkowy (bonusowy) punkt do zaliczenia."
   ]
  },
  {
   "cell_type": "code",
   "execution_count": 71,
   "metadata": {},
   "outputs": [],
   "source": [
    "def rumps_function(x, y):\n",
    "    return 333.75*y**6+x**2*(11*x**2*y**2-y**6-121*y**4-2)+5.5*y**8+x/(y*2)"
   ]
  },
  {
   "cell_type": "code",
   "execution_count": 23,
   "metadata": {},
   "outputs": [],
   "source": [
    "x=77617\n",
    "y=33096"
   ]
  },
  {
   "cell_type": "markdown",
   "metadata": {},
   "source": [
    "## Python3"
   ]
  },
  {
   "cell_type": "code",
   "execution_count": 5,
   "metadata": {},
   "outputs": [
    {
     "data": {
      "text/plain": [
       "1.1805916207174113e+21"
      ]
     },
     "execution_count": 5,
     "metadata": {},
     "output_type": "execute_result"
    }
   ],
   "source": [
    "rumps_function(x,y)"
   ]
  },
  {
   "cell_type": "code",
   "execution_count": 25,
   "metadata": {},
   "outputs": [
    {
     "data": {
      "text/plain": [
       "5.76460752303423488e+17"
      ]
     },
     "execution_count": 25,
     "metadata": {},
     "output_type": "execute_result"
    }
   ],
   "source": [
    "x_128 = np.array(x, dtype = np.float128)\n",
    "y_128 = np.array(y, dtype = np.float128)\n",
    "\n",
    "rumps_function(x_128,y_128)"
   ]
  },
  {
   "cell_type": "code",
   "execution_count": 26,
   "metadata": {},
   "outputs": [
    {
     "data": {
      "text/plain": [
       "-1.1805916207174113e+21"
      ]
     },
     "execution_count": 26,
     "metadata": {},
     "output_type": "execute_result"
    }
   ],
   "source": [
    "x_64 = np.array(x, dtype = np.float64)\n",
    "y_64 = np.array(y, dtype = np.float64)\n",
    "\n",
    "rumps_function(x_64,y_64)"
   ]
  },
  {
   "cell_type": "code",
   "execution_count": 27,
   "metadata": {},
   "outputs": [
    {
     "data": {
      "text/plain": [
       "-2.089537763244326e+29"
      ]
     },
     "execution_count": 27,
     "metadata": {},
     "output_type": "execute_result"
    }
   ],
   "source": [
    "x_32 = np.array(x, dtype = np.float32)\n",
    "y_32 = np.array(y, dtype = np.float32)\n",
    "rumps_function(x_32,y_32)"
   ]
  },
  {
   "cell_type": "code",
   "execution_count": 28,
   "metadata": {},
   "outputs": [
    {
     "name": "stderr",
     "output_type": "stream",
     "text": [
      "/home/bartek/.local/lib/python3.5/site-packages/ipykernel_launcher.py:2: RuntimeWarning: overflow encountered in square\n",
      "  \n",
      "/home/bartek/.local/lib/python3.5/site-packages/ipykernel_launcher.py:2: RuntimeWarning: invalid value encountered in true_divide\n",
      "  \n"
     ]
    },
    {
     "data": {
      "text/plain": [
       "nan"
      ]
     },
     "execution_count": 28,
     "metadata": {},
     "output_type": "execute_result"
    }
   ],
   "source": [
    "x_16 = np.array(x, dtype = np.float16)\n",
    "y_16 = np.array(y, dtype = np.float16)\n",
    "rumps_function(x_16,y_16)"
   ]
  },
  {
   "cell_type": "code",
   "execution_count": 30,
   "metadata": {},
   "outputs": [
    {
     "data": {
      "text/plain": [
       "1.1805916207174113e+21"
      ]
     },
     "execution_count": 30,
     "metadata": {},
     "output_type": "execute_result"
    }
   ],
   "source": [
    "from fractions import Fraction\n",
    "x_frac = Fraction(x)\n",
    "y_frac = Fraction(y)\n",
    "\n",
    "rumps_function(x_frac, y_frac)"
   ]
  },
  {
   "cell_type": "markdown",
   "metadata": {},
   "source": [
    "## Python2"
   ]
  },
  {
   "cell_type": "markdown",
   "metadata": {},
   "source": [
    "![alt text](python2_rump.png \"Title\")"
   ]
  },
  {
   "cell_type": "markdown",
   "metadata": {},
   "source": [
    "$$f(x,y)= 333.75y^6+x^2(11x^2y^2-y^6-121y^4-2)+5.5y^8+\\frac{x}{2y}$$\n",
    "\n",
    "w punkcie x=77617, y=33096."
   ]
  },
  {
   "cell_type": "code",
   "execution_count": 48,
   "metadata": {},
   "outputs": [
    {
     "name": "stdout",
     "output_type": "stream",
     "text": [
      "-6024398687\n",
      "-437291576312021946452195995968\n",
      "\n",
      "-1.0\n",
      "-1.3141745343712155e+27\n",
      "\n",
      "4.386057508463932e+29\n",
      "\n",
      "1.1726039400531787\n"
     ]
    },
    {
     "data": {
      "text/plain": [
       "1.1726039400531787"
      ]
     },
     "execution_count": 48,
     "metadata": {},
     "output_type": "execute_result"
    }
   ],
   "source": [
    "def rump_correct(x,y):\n",
    "    part1 = x**2 - 11*y**2\n",
    "    print(part1)\n",
    "    part1 *= 11*y**2*x**2\n",
    "    print(part1)\n",
    "    print()\n",
    "    part2 = 5.5*y**2 - x**2\n",
    "    print(part2)\n",
    "    part2 *= y**6\n",
    "    print(part2)\n",
    "    print()\n",
    "    part3 = 333.75*y**6-2*x**2\n",
    "    print(part3)\n",
    "    print()\n",
    "    part4 = x/(2*y)\n",
    "    print(part4)\n",
    "    return part1 + part2 + part3 + part4\n",
    "\n",
    "rump_correct(x,y)"
   ]
  },
  {
   "cell_type": "code",
   "execution_count": 47,
   "metadata": {},
   "outputs": [
    {
     "name": "stdout",
     "output_type": "stream",
     "text": [
      "-6024398686.999999\n",
      "-4.372915763120219e+29\n",
      "-1.3141740769911687e+27\n",
      "4.386057508463931e+29\n"
     ]
    },
    {
     "data": {
      "text/plain": [
       "4.573800893937017e+20"
      ]
     },
     "execution_count": 47,
     "metadata": {},
     "output_type": "execute_result"
    }
   ],
   "source": [
    "def rump_correct2(x,y):\n",
    "    part1 = (x - np.sqrt(11)*y)*(x + np.sqrt(11)*y)\n",
    "    print(part1)\n",
    "    part1 *= 11*y**2*x**2\n",
    "    print(part1)\n",
    "    part2 = (np.sqrt(5.5)*y - x)*(np.sqrt(5.5)*y + x)\n",
    "    part2 *= y**6\n",
    "    print(part2)\n",
    "    part3 = (np.sqrt(333.75)*y**3-np.sqrt(2)*x)*(np.sqrt(333.75)*y**3 + np.sqrt(2)*x)\n",
    "    print(part3)\n",
    "    part4 = x/(2*y)\n",
    "    return part1 + part2 + part3 + part4\n",
    "\n",
    "rump_correct2(x,y)"
   ]
  },
  {
   "cell_type": "markdown",
   "metadata": {},
   "source": [
    "$$f(x,y)= 333.75y^6+x^2(11x^2y^2-y^6-121y^4-2)+5.5y^8+\\frac{x}{2y} = -2 x^2 + y^2 (11 x^4 + y^2 (-121 x^2 + y^2 (333.75 - x^2 + 5.5 y^2))) + \\frac{x}{2y}$$\n",
    "\n",
    "w punkcie x=77617, y=33096."
   ]
  },
  {
   "cell_type": "code",
   "execution_count": 73,
   "metadata": {},
   "outputs": [
    {
     "data": {
      "text/plain": [
       "-12048797376.827396"
      ]
     },
     "execution_count": 73,
     "metadata": {},
     "output_type": "execute_result"
    }
   ],
   "source": [
    "def rump_correct3(x,y):\n",
    "    return -2* x**2 + y**2 *(11 *x**4 + y**2 *(-121* x**2 + y**2 *(333.75 - x**2 + 5.5 *y**2))) + x / (2*y)\n",
    "\n",
    "rump_correct3(x,y)"
   ]
  },
  {
   "cell_type": "code",
   "execution_count": 69,
   "metadata": {},
   "outputs": [
    {
     "name": "stdout",
     "output_type": "stream",
     "text": [
      "332.750000348036\n",
      "-364476120363.78046\n",
      "417567070513.5669\n",
      "4.573800930341214e+20\n",
      "\n",
      "Final result: 4.573800930341214e+20\n"
     ]
    }
   ],
   "source": [
    "def rump_correct4(x,y):\n",
    "    part1 = (np.sqrt(5.5) * y - x) * (np.sqrt(5.5) * y + x) + 333.75\n",
    "    print(part1)\n",
    "    part2 = (np.sqrt(part1) * y - 11 * x) * (np.sqrt(part1) * y + 11 * x)\n",
    "    print(part2)\n",
    "    part2 = -part2\n",
    "    part3 = (np.sqrt(11) * x**2 - np.sqrt(part2) * y) * (np.sqrt(11) * x**2 + np.sqrt(part2) * y)\n",
    "    print(part3)\n",
    "    part4 = (np.sqrt(part3) * y - np.sqrt(2) * x) * (np.sqrt(part3) * y + np.sqrt(2) * x)\n",
    "    print(part4)\n",
    "    return part4 + x / (2*y)\n",
    "    \n",
    "result = rump_correct4(x,y)\n",
    "print()\n",
    "print(\"Final result:\", result)"
   ]
  },
  {
   "cell_type": "code",
   "execution_count": null,
   "metadata": {},
   "outputs": [],
   "source": []
  }
 ],
 "metadata": {
  "kernelspec": {
   "display_name": "Python 3",
   "language": "python",
   "name": "python3"
  },
  "language_info": {
   "codemirror_mode": {
    "name": "ipython",
    "version": 3
   },
   "file_extension": ".py",
   "mimetype": "text/x-python",
   "name": "python",
   "nbconvert_exporter": "python",
   "pygments_lexer": "ipython3",
   "version": "3.5.2"
  }
 },
 "nbformat": 4,
 "nbformat_minor": 2
}
