{
 "cells": [
  {
   "cell_type": "markdown",
   "metadata": {},
   "source": [
    "### 0. Rozważmy cztery punkty na płaszczyźnie: (0,4), (1,0), (2,0) i (3,0). Jaka prosta przechodzi najbliżej nich? ułóż układ równań liniowych, który można rozwiązać metodą najmniejszych kwadratów. Wykorzystaj funkcje scipy.linalg.qr aby zobaczyć rozkład QR macierzy A. Użyj funkcji scipy. linalg.lstsq aby znaleźć rozwiązanie. Jakie jest znaczenie wartośći zwróconych przez tę funkcje?"
   ]
  },
  {
   "cell_type": "code",
   "execution_count": 4,
   "metadata": {},
   "outputs": [],
   "source": [
    "import matplotlib.pyplot as plt\n",
    "import numpy as np"
   ]
  },
  {
   "cell_type": "code",
   "execution_count": 20,
   "metadata": {},
   "outputs": [],
   "source": [
    "x = np.arange(4)\n",
    "y = np.array([4,0,0,0])"
   ]
  },
  {
   "cell_type": "code",
   "execution_count": 21,
   "metadata": {},
   "outputs": [
    {
     "data": {
      "image/png": "[encoded data removed]",
      "text/plain": [
       "<Figure size 432x288 with 1 Axes>"
      ]
     },
     "metadata": {
      "needs_background": "light"
     },
     "output_type": "display_data"
    }
   ],
   "source": [
    "plt.scatter(x,y)\n",
    "plt.grid()"
   ]
  },
  {
   "cell_type": "code",
   "execution_count": 7,
   "metadata": {},
   "outputs": [],
   "source": [
    "from scipy import linalg"
   ]
  },
  {
   "cell_type": "code",
   "execution_count": 22,
   "metadata": {},
   "outputs": [],
   "source": [
    "X = np.concatenate([x[:, np.newaxis], np.ones(x.shape[0])[:, np.newaxis]], axis=1)\n",
    "q, r = linalg.qr(X)"
   ]
  },
  {
   "cell_type": "code",
   "execution_count": 12,
   "metadata": {},
   "outputs": [
    {
     "data": {
      "text/plain": [
       "array([[ 0.        , -0.83666003, -0.38578674, -0.38880405],\n",
       "       [-0.26726124, -0.47809144,  0.22458489,  0.80595386],\n",
       "       [-0.53452248, -0.11952286,  0.70819044, -0.44549557],\n",
       "       [-0.80178373,  0.23904572, -0.54698859,  0.02834576]])"
      ]
     },
     "execution_count": 12,
     "metadata": {},
     "output_type": "execute_result"
    }
   ],
   "source": [
    "q"
   ]
  },
  {
   "cell_type": "code",
   "execution_count": 13,
   "metadata": {},
   "outputs": [
    {
     "data": {
      "text/plain": [
       "array([[-3.74165739, -1.60356745],\n",
       "       [ 0.        , -1.19522861],\n",
       "       [ 0.        ,  0.        ],\n",
       "       [ 0.        ,  0.        ]])"
      ]
     },
     "execution_count": 13,
     "metadata": {},
     "output_type": "execute_result"
    }
   ],
   "source": [
    "r"
   ]
  },
  {
   "cell_type": "code",
   "execution_count": 24,
   "metadata": {},
   "outputs": [
    {
     "data": {
      "text/plain": [
       "array([ 2.8,  1.6,  0.4, -0.8])"
      ]
     },
     "execution_count": 24,
     "metadata": {},
     "output_type": "execute_result"
    }
   ],
   "source": [
    "a, res, rank, s = linalg.lstsq(X, y)\n",
    "X @ a"
   ]
  },
  {
   "cell_type": "code",
   "execution_count": 25,
   "metadata": {},
   "outputs": [
    {
     "data": {
      "image/png": "[encoded data removed]",
      "text/plain": [
       "<Figure size 432x288 with 1 Axes>"
      ]
     },
     "metadata": {
      "needs_background": "light"
     },
     "output_type": "display_data"
    }
   ],
   "source": [
    "plt.scatter(x, y)\n",
    "plt.plot(x, X @ a.flatten())\n",
    "plt.grid()"
   ]
  },
  {
   "cell_type": "markdown",
   "metadata": {},
   "source": [
    "### 1  Rozważmy dane:"
   ]
  },
  {
   "cell_type": "code",
   "execution_count": null,
   "metadata": {},
   "outputs": [],
   "source": [
    "0.00\t4.00000000000000e+00\n",
    "1.25\t3.28650479686019e+00\n",
    "2.50\t3.08208499862390e+00\n",
    "3.75\t3.02351774585601e+00\n",
    "5.00\t3.00673794699909e+00\n",
    "6.25\t3.00193045413623e+00\n",
    "7.50\t0.00055308437015e+00\n",
    "8.75\t3.00015846132512e+00\n",
    "10.00\t3.00004539992976e+00"
   ]
  },
  {
   "cell_type": "markdown",
   "metadata": {},
   "source": [
    "Jak będzie wyglądało dopasowanie met. najlepszych kwadratów funkcji $f(x)=a\\cdot 1 + b\\cdot exp(-x)$ do tych danych?"
   ]
  },
  {
   "cell_type": "code",
   "execution_count": 36,
   "metadata": {},
   "outputs": [],
   "source": [
    "x_pre = np.arange(0, 11, 1.25)\n",
    "x = np.exp(-x)\n",
    "y = np.array([4.00000000000000e+00, 3.28650479686019e+00, 3.08208499862390e+00, 3.02351774585601e+00, 3.00673794699909e+00, 3.00193045413623e+00, 0.00055308437015e+00, 3.00015846132512e+00, 3.00004539992976e+00])\n",
    "\n",
    "X = np.concatenate([x[:, np.newaxis], np.ones(x.shape[0])[:, np.newaxis]], axis=1)\n",
    "a, res, rank, s = linalg.lstsq(X, y)\n",
    "a"
   ]
  },
  {
   "cell_type": "code",
   "execution_count": 74,
   "metadata": {},
   "outputs": [
    {
     "data": {
      "image/png": "[encoded data removed]",
      "text/plain": [
       "<Figure size 432x288 with 1 Axes>"
      ]
     },
     "metadata": {
      "needs_background": "light"
     },
     "output_type": "display_data"
    }
   ],
   "source": [
    "plt.scatter(x_pre, y)\n",
    "plt.plot(x_pre, X @ a.flatten())\n",
    "plt.grid()"
   ]
  },
  {
   "cell_type": "markdown",
   "metadata": {},
   "source": [
    "### 2. Rozważmy dane o obwodzie pnia, trees-stripped ( do wczytywania przyda się funkcja numpy.loadtext). \n",
    "\n",
    "Kolejne kolumny oznaczają tu:\n",
    "\n",
    "obwód pnia<br>\n",
    "wysokość drzewa<br>\n",
    "objętość pozyskanego drewna.<br>\n",
    "\n",
    "Spróbuj dopasować (metodą najmniejszych kwadratów) objętość drzewa jako funkcję:\n",
    "\n",
    "kombinację liniową obwodu pnia i wysokości drzewa (a*obwod+b*wysokosc+c)<br>\n",
    "iloczynu wysokości przez obwód (a*wysokosc*obwod+b)<br>\n",
    "kombinację liniową powyższych (a*wys.+b*obwod+c*wys.*obw+d)<br>\n",
    "Gdzie uzyskujemy najmniejszy błąd przybliżenia?"
   ]
  },
  {
   "cell_type": "code",
   "execution_count": 45,
   "metadata": {},
   "outputs": [
    {
     "data": {
      "text/html": [
       "<div>\n",
       "<table border=\"1\" class=\"dataframe\">\n",
       "  <thead>\n",
       "    <tr style=\"text-align: right;\">\n",
       "      <th></th>\n",
       "      <th>0</th>\n",
       "      <th>1</th>\n",
       "      <th>2</th>\n",
       "    </tr>\n",
       "  </thead>\n",
       "  <tbody>\n",
       "    <tr>\n",
       "      <th>0</th>\n",
       "      <td>8.3</td>\n",
       "      <td>70</td>\n",
       "      <td>10.3</td>\n",
       "    </tr>\n",
       "    <tr>\n",
       "      <th>1</th>\n",
       "      <td>8.6</td>\n",
       "      <td>65</td>\n",
       "      <td>10.3</td>\n",
       "    </tr>\n",
       "    <tr>\n",
       "      <th>2</th>\n",
       "      <td>8.8</td>\n",
       "      <td>63</td>\n",
       "      <td>10.2</td>\n",
       "    </tr>\n",
       "    <tr>\n",
       "      <th>3</th>\n",
       "      <td>10.5</td>\n",
       "      <td>72</td>\n",
       "      <td>16.4</td>\n",
       "    </tr>\n",
       "    <tr>\n",
       "      <th>4</th>\n",
       "      <td>10.7</td>\n",
       "      <td>81</td>\n",
       "      <td>18.8</td>\n",
       "    </tr>\n",
       "  </tbody>\n",
       "</table>\n",
       "</div>"
      ],
      "text/plain": [
       "      0   1     2\n",
       "0   8.3  70  10.3\n",
       "1   8.6  65  10.3\n",
       "2   8.8  63  10.2\n",
       "3  10.5  72  16.4\n",
       "4  10.7  81  18.8"
      ]
     },
     "execution_count": 45,
     "metadata": {},
     "output_type": "execute_result"
    }
   ],
   "source": [
    "import pandas as pd\n",
    "\n",
    "df = pd.read_csv('trees-stripped.csv', header=None)\n",
    "df.head()"
   ]
  },
  {
   "cell_type": "code",
   "execution_count": 52,
   "metadata": {},
   "outputs": [],
   "source": [
    "y = df.iloc[:, -1].values"
   ]
  },
  {
   "cell_type": "markdown",
   "metadata": {},
   "source": [
    "#### a)"
   ]
  },
  {
   "cell_type": "code",
   "execution_count": 65,
   "metadata": {},
   "outputs": [
    {
     "data": {
      "text/plain": [
       "array([  4.7081605 ,   0.33925123, -57.98765892])"
      ]
     },
     "execution_count": 65,
     "metadata": {},
     "output_type": "execute_result"
    }
   ],
   "source": [
    "X_a = df.iloc[:, :-1].values\n",
    "X_a = np.concatenate([X_a, np.ones(X_a.shape[0])[:, np.newaxis]], axis=1)\n",
    "A, res, rank, s = linalg.lstsq(X_a, y)\n",
    "\n",
    "A"
   ]
  },
  {
   "cell_type": "code",
   "execution_count": 66,
   "metadata": {},
   "outputs": [
    {
     "data": {
      "text/plain": [
       "421.9213592224488"
      ]
     },
     "execution_count": 66,
     "metadata": {},
     "output_type": "execute_result"
    }
   ],
   "source": [
    "# błąd przybliżenia:\n",
    "np.sum((y - X_a @ A)**2)"
   ]
  },
  {
   "cell_type": "markdown",
   "metadata": {},
   "source": [
    "#### b)"
   ]
  },
  {
   "cell_type": "code",
   "execution_count": 67,
   "metadata": {},
   "outputs": [
    {
     "data": {
      "text/plain": [
       "array([  0.05449038, -25.2417025 ])"
      ]
     },
     "execution_count": 67,
     "metadata": {},
     "output_type": "execute_result"
    }
   ],
   "source": [
    "X_b = df.iloc[:, :-1].values\n",
    "X_b = X_b[:, 0] * X_b[:, 1]\n",
    "X_b = np.concatenate([X_b[:, np.newaxis], np.ones(X_a.shape[0])[:, np.newaxis]], axis=1)\n",
    "A, res, rank, s = linalg.lstsq(X_b, y)\n",
    "\n",
    "A"
   ]
  },
  {
   "cell_type": "code",
   "execution_count": 68,
   "metadata": {},
   "outputs": [
    {
     "data": {
      "text/plain": [
       "372.71734835258746"
      ]
     },
     "execution_count": 68,
     "metadata": {},
     "output_type": "execute_result"
    }
   ],
   "source": [
    "# błąd przybliżenia:\n",
    "np.sum((y - X_b @ A)**2)"
   ]
  },
  {
   "cell_type": "markdown",
   "metadata": {},
   "source": [
    "#### c)"
   ]
  },
  {
   "cell_type": "code",
   "execution_count": 69,
   "metadata": {},
   "outputs": [
    {
     "data": {
      "text/plain": [
       "array([-5.85584793, -1.29708337,  0.13465439, 69.39631556])"
      ]
     },
     "execution_count": 69,
     "metadata": {},
     "output_type": "execute_result"
    }
   ],
   "source": [
    "X_a = df.iloc[:, :-1].values\n",
    "X_b = X_a[:, 0] * X_a[:, 1]\n",
    "X_c = np.concatenate([X_a, X_b[:, np.newaxis], np.ones(X_a.shape[0])[:, np.newaxis]], axis=1)\n",
    "A, res, rank, s = linalg.lstsq(X_c, y)\n",
    "\n",
    "A"
   ]
  },
  {
   "cell_type": "code",
   "execution_count": 70,
   "metadata": {},
   "outputs": [
    {
     "data": {
      "text/plain": [
       "198.07856881328584"
      ]
     },
     "execution_count": 70,
     "metadata": {},
     "output_type": "execute_result"
    }
   ],
   "source": [
    "# błąd przybliżenia:\n",
    "np.sum((y - X_c @ A)**2)"
   ]
  },
  {
   "cell_type": "markdown",
   "metadata": {},
   "source": [
    "### 3(*)"
   ]
  },
  {
   "cell_type": "markdown",
   "metadata": {},
   "source": [
    "Przedstaw na wykresie wynik zadania 1 (wykres punktowy obserwacji i dużo gęściej próbkowany wykres liniowy znalezionej funkcji). Jaki jest problem naszego rozwiązania? czy można jakoś pomóc sobie używając ważonego problemu średnich kwadratów? jak to zrobić dla wagi jednej z obserwacji=0? a jak dla wagi 0.1? Problem ważonych najmniejszych kwadratów uzyskujemy dodając zestaw wag w_i, t. ż. \\sum_i w_i = 1, do wzoru z wykładu. Jeśli ktoś nie ma ochoty implementować ważonej metody najmniejszych kwadratów \"ręcznie\", można wykorzystać funkcję curve_fit z pakiety scipy.optimize, gdzie parametr sigma odpowiada zasadniczo 1/w_i"
   ]
  },
  {
   "cell_type": "code",
   "execution_count": 101,
   "metadata": {},
   "outputs": [
    {
     "data": {
      "text/plain": [
       "array([-8.09661662,  8.16682066])"
      ]
     },
     "execution_count": 101,
     "metadata": {},
     "output_type": "execute_result"
    }
   ],
   "source": [
    "x_pre = np.arange(0, 11, 1.25)\n",
    "x = np.exp(-x)\n",
    "y = np.array([4.00000000000000e+00, 3.28650479686019e+00, 3.08208499862390e+00,\n",
    "              3.02351774585601e+00, 3.00673794699909e+00, 3.00193045413623e+00,\n",
    "              0.00055308437015e+00, 3.00015846132512e+00, 3.00004539992976e+00])\n",
    "X = np.concatenate([x[:, np.newaxis], np.ones(x.shape[0])[:, np.newaxis]], axis=1)\n",
    "a, res, rank, s = linalg.lstsq(X, y)\n",
    "a"
   ]
  },
  {
   "cell_type": "code",
   "execution_count": 102,
   "metadata": {},
   "outputs": [
    {
     "data": {
      "image/png": "[encoded data removed]",
      "text/plain": [
       "<Figure size 432x288 with 1 Axes>"
      ]
     },
     "metadata": {
      "needs_background": "light"
     },
     "output_type": "display_data"
    }
   ],
   "source": [
    "plt.scatter(x_pre, y)\n",
    "plt.plot(x_pre, X @ a.flatten())\n",
    "plt.grid()"
   ]
  },
  {
   "cell_type": "code",
   "execution_count": 156,
   "metadata": {},
   "outputs": [],
   "source": [
    "w = (y - X @ a.flatten())**2\n",
    "w = np.sqrt(w)\n",
    "w = w / w.sum()\n",
    "\n"
   ]
  },
  {
   "cell_type": "code",
   "execution_count": 157,
   "metadata": {},
   "outputs": [],
   "source": [
    "from scipy.optimize import curve_fit"
   ]
  },
  {
   "cell_type": "code",
   "execution_count": 158,
   "metadata": {},
   "outputs": [],
   "source": [
    "f = lambda xx, aa, bb: bb * np.exp(-xx) + aa"
   ]
  },
  {
   "cell_type": "code",
   "execution_count": 159,
   "metadata": {},
   "outputs": [],
   "source": [
    "popt, pcov = curve_fit(f, x_pre, y, sigma=1/w)"
   ]
  },
  {
   "cell_type": "code",
   "execution_count": 160,
   "metadata": {},
   "outputs": [
    {
     "data": {
      "image/png": "[encoded data removed]",
      "text/plain": [
       "<Figure size 432x288 with 1 Axes>"
      ]
     },
     "metadata": {
      "needs_background": "light"
     },
     "output_type": "display_data"
    }
   ],
   "source": [
    "plt.scatter(x_pre, y)\n",
    "plt.plot(x_pre, f(x, *popt), 'r-', label='fit: a=%5.3f, b=%5.3f' % tuple(popt))\n",
    "plt.legend()\n",
    "plt.grid()"
   ]
  }
 ],
 "metadata": {
  "kernelspec": {
   "display_name": "Python 3",
   "language": "python",
   "name": "python3"
  },
  "language_info": {
   "codemirror_mode": {
    "name": "ipython",
    "version": 3
   },
   "file_extension": ".py",
   "mimetype": "text/x-python",
   "name": "python",
   "nbconvert_exporter": "python",
   "pygments_lexer": "ipython3",
   "version": "3.5.2"
  }
 },
 "nbformat": 4,
 "nbformat_minor": 2
}
