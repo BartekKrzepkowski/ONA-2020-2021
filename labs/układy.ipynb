{
 "cells": [
  {
   "cell_type": "code",
   "execution_count": 2,
   "metadata": {},
   "outputs": [],
   "source": [
    "import numpy as np"
   ]
  },
  {
   "cell_type": "markdown",
   "metadata": {},
   "source": [
    "Ax = b"
   ]
  },
  {
   "cell_type": "markdown",
   "metadata": {},
   "source": [
    "Lx = b"
   ]
  },
  {
   "cell_type": "markdown",
   "metadata": {},
   "source": [
    "Ux = b"
   ]
  },
  {
   "cell_type": "markdown",
   "metadata": {},
   "source": [
    "A = LU"
   ]
  },
  {
   "cell_type": "code",
   "execution_count": 5,
   "metadata": {},
   "outputs": [],
   "source": [
    "def l_backward(L, b):\n",
    "    x = np.zeros_like(b)\n",
    "    x[0] = b[0]\n",
    "    for i in range(len(L)):\n",
    "        for j in range(i):\n",
    "            b[i] -= L[i][j] * x[j]\n",
    "        x[i] = b[i]\n",
    "    return x"
   ]
  },
  {
   "cell_type": "code",
   "execution_count": 6,
   "metadata": {},
   "outputs": [],
   "source": [
    "L = np.array([[1,0,0], [1,1,0], [1,1,1]])\n",
    "b = np.array([1,1,1])"
   ]
  },
  {
   "cell_type": "code",
   "execution_count": 7,
   "metadata": {},
   "outputs": [
    {
     "data": {
      "text/plain": [
       "array([1, 0, 0])"
      ]
     },
     "execution_count": 7,
     "metadata": {},
     "output_type": "execute_result"
    }
   ],
   "source": [
    "l_backward(L, b)"
   ]
  },
  {
   "cell_type": "code",
   "execution_count": null,
   "metadata": {},
   "outputs": [],
   "source": [
    "def u_forward(U, b):\n",
    "    x = np.zeros_like(b)\n",
    "    x[0] = b[0]\n",
    "    for i in range(len(U)):\n",
    "        for j in range(i, len(U)):\n",
    "            b[i] -= U[i][j] * x[j]\n",
    "        x[i] = b[i]\n",
    "    return x"
   ]
  },
  {
   "cell_type": "markdown",
   "metadata": {},
   "source": [
    "uzupełnienie Schura"
   ]
  },
  {
   "cell_type": "code",
   "execution_count": 75,
   "metadata": {},
   "outputs": [],
   "source": [
    "def lu_decomp(A):\n",
    "    L = np.zeros_like(A)\n",
    "    U = np.zeros_like(A)\n",
    "    L[0, 0] = 1\n",
    "    U[0, 0] = A[0, 0]\n",
    "    L[1:, 0] = A[1:, 0] / A[0,0]\n",
    "    U[0, 1:] = A[0, 1:]\n",
    "    if len(A) == 2:\n",
    "        L[1,1] = 1\n",
    "        U[1,1] = A[1,1] - L[1,0] * U[0,1]\n",
    "        return L, U\n",
    "    # uzupełnienie schura\n",
    "    outer = np.outer(L[1:, 0], U[0, 1:])\n",
    "    L[1:, 1:], U[1:, 1:] = lu_decomp(A[1:, 1:] - outer)\n",
    "    return L, U"
   ]
  },
  {
   "cell_type": "code",
   "execution_count": 80,
   "metadata": {},
   "outputs": [],
   "source": [
    "A = np.array([[2,4,3,5], [-4,-7, -5, -8], [6,8,2,9],[4,9,-2,14]], dtype='float')"
   ]
  },
  {
   "cell_type": "code",
   "execution_count": 81,
   "metadata": {},
   "outputs": [],
   "source": [
    "l, u = lu_decomp(A)"
   ]
  },
  {
   "cell_type": "code",
   "execution_count": 82,
   "metadata": {},
   "outputs": [
    {
     "data": {
      "text/plain": [
       "array([[ 1.,  0.,  0.,  0.],\n",
       "       [-2.,  1.,  0.,  0.],\n",
       "       [ 3., -4.,  1.,  0.],\n",
       "       [ 2.,  1.,  3.,  1.]])"
      ]
     },
     "execution_count": 82,
     "metadata": {},
     "output_type": "execute_result"
    }
   ],
   "source": [
    "l"
   ]
  },
  {
   "cell_type": "code",
   "execution_count": 83,
   "metadata": {},
   "outputs": [
    {
     "data": {
      "text/plain": [
       "array([[ 2.,  4.,  3.,  5.],\n",
       "       [ 0.,  1.,  1.,  2.],\n",
       "       [ 0.,  0., -3.,  2.],\n",
       "       [ 0.,  0.,  0., -4.]])"
      ]
     },
     "execution_count": 83,
     "metadata": {},
     "output_type": "execute_result"
    }
   ],
   "source": [
    "u"
   ]
  },
  {
   "cell_type": "code",
   "execution_count": null,
   "metadata": {},
   "outputs": [],
   "source": []
  }
 ],
 "metadata": {
  "kernelspec": {
   "display_name": "Python 3",
   "language": "python",
   "name": "python3"
  },
  "language_info": {
   "codemirror_mode": {
    "name": "ipython",
    "version": 3
   },
   "file_extension": ".py",
   "mimetype": "text/x-python",
   "name": "python",
   "nbconvert_exporter": "python",
   "pygments_lexer": "ipython3",
   "version": "3.5.2"
  }
 },
 "nbformat": 4,
 "nbformat_minor": 5
}
