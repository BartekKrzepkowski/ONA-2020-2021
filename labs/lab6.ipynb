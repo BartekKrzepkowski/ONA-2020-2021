{
 "cells": [
  {
   "cell_type": "markdown",
   "metadata": {},
   "source": [
    "# 1. Zapoznaj się z modułem gzip . Weź plik tekstowy z sekwencją wirusa COVID-19 (covid-19.fasta), napisz skrypty pythona, które używając modułu gzip zapiszą jego wersję skompresowaną, a następnie zdekompresują. Jaki współczynnik kompresji osiąga się przy takim pliku? (jeśli korzystamy z serwera jupyter - proszę robić to we własnym katalogu)."
   ]
  },
  {
   "cell_type": "code",
   "execution_count": null,
   "metadata": {},
   "outputs": [],
   "source": [
    "import gzip\n",
    "with open('covid-19.fasta_.txt', 'br') as f_in, gzip.open('covid-19.fasta_.gz', 'wb') as f_out:\n",
    "    f_out.writelines(f_in)"
   ]
  },
  {
   "cell_type": "code",
   "execution_count": null,
   "metadata": {},
   "outputs": [],
   "source": [
    "with gzip.open('covid-19.fasta_.gz', 'rb') as f:\n",
    "    file_content = f.read()\n",
    "    \n",
    "file_content.decode(\"utf-8\") "
   ]
  },
  {
   "cell_type": "code",
   "execution_count": null,
   "metadata": {},
   "outputs": [],
   "source": [
    "import os\n",
    "\n",
    "compress_ratio = os.path.getsize('covid-19.fasta_.gz') / os.path.getsize('covid-19.fasta_.txt')\n",
    "\n"
   ]
  },
  {
   "cell_type": "code",
   "execution_count": null,
   "metadata": {},
   "outputs": [],
   "source": [
    "print('Compress ratio:', compress_ratio)"
   ]
  },
  {
   "cell_type": "markdown",
   "metadata": {},
   "source": [
    "## 2. Weźmy takie pomocnicze funkcje w pythonie opisujące dyskretną transformatę kosinusową:"
   ]
  },
  {
   "cell_type": "code",
   "execution_count": 8,
   "metadata": {},
   "outputs": [],
   "source": [
    "import urllib,io\n",
    "from urllib import request\n",
    "from PIL import Image\n",
    "from scipy import fftpack\n",
    "import numpy as np"
   ]
  },
  {
   "cell_type": "code",
   "execution_count": null,
   "metadata": {},
   "outputs": [],
   "source": [
    "URL='http://regulomics.mimuw.edu.pl/wp/wp-content/uploads/2019/04/palmy.png'\n",
    "\n",
    "def get_image_from_url(image_url=URL, size=(256, 256)):\n",
    "    file_descriptor = request.urlopen(image_url)\n",
    "    image_file = io.BytesIO(file_descriptor.read())\n",
    "    image = Image.open(image_file)\n",
    "    img_color = image.resize(size, 1)\n",
    "    img_grey = img_color.convert('L')\n",
    "    img = np.array(img_grey, dtype=np.float)\n",
    "    return img\n",
    "\n",
    "def get_2D_dct(img):\n",
    "    \"\"\" Get 2D Cosine Transform of Image\n",
    "    \"\"\"\n",
    "    return fftpack.dct(fftpack.dct(img.T, norm='ortho').T, norm='ortho')\n",
    "\n",
    "def get_2d_idct(coefficients):\n",
    "    \"\"\" Get 2D Inverse Cosine Transform of Image\n",
    "    \"\"\"\n",
    "    return fftpack.idct(fftpack.idct(coefficients.T, norm='ortho').T, norm='ortho')\n",
    "\n",
    "def get_reconstructed_image(raw):\n",
    "    img = raw.clip(0, 255)\n",
    "    img = img.astype('uint8')\n",
    "    img = Image.fromarray(img)\n",
    "    return img"
   ]
  },
  {
   "cell_type": "markdown",
   "metadata": {},
   "source": [
    "wykonaj program, który dokonuje Ntego przybliżenia obrazu, przy pomocy zerowania wartośći powyżej Ntego wiersza i Ntej kolumny macierzy get_2D_dct(img) i wyświetl kilkanaście pierwszych przybliżeń."
   ]
  },
  {
   "cell_type": "code",
   "execution_count": null,
   "metadata": {},
   "outputs": [],
   "source": [
    "img = get_image_from_url(URL)\n",
    "get_reconstructed_image(img)"
   ]
  },
  {
   "cell_type": "code",
   "execution_count": null,
   "metadata": {},
   "outputs": [],
   "source": [
    "coefs = get_2D_dct(img)\n",
    "img.shape, coefs.shape"
   ]
  },
  {
   "cell_type": "code",
   "execution_count": null,
   "metadata": {
    "scrolled": true
   },
   "outputs": [],
   "source": [
    "coefs = get_2D_dct(img)\n",
    "for i in range(coefs.shape[0]//16, coefs.shape[0]+1, coefs.shape[0]//16):\n",
    "    print('i = ', i)\n",
    "    coefs_p = np.zeros_like(coefs)\n",
    "    coefs_p[:i, :i] = coefs[:i, :i]\n",
    "    img_p = get_reconstructed_image(get_2d_idct(coefs_p))\n",
    "    plt.figure(figsize=(8, 8))\n",
    "    plt.imshow(img_p, cmap='gray')\n",
    "    plt.show()"
   ]
  },
  {
   "cell_type": "markdown",
   "metadata": {},
   "source": [
    "## 3. Wyrysuj wykres Entropii dla kanału binarnego w zależności od wartości P(1), na przedziale (0,1)"
   ]
  },
  {
   "cell_type": "code",
   "execution_count": null,
   "metadata": {},
   "outputs": [],
   "source": [
    "import matplotlib.pyplot as plt\n",
    "import numpy as np"
   ]
  },
  {
   "cell_type": "code",
   "execution_count": null,
   "metadata": {},
   "outputs": [],
   "source": [
    "p = np.linspace(0, 1, 20)\n",
    "entropy = - (p * np.log2(p) + (1-p) * np.log2(1-p))\n",
    "entropy[0] = 0\n",
    "entropy[-1]=0"
   ]
  },
  {
   "cell_type": "code",
   "execution_count": null,
   "metadata": {},
   "outputs": [],
   "source": [
    "plt.plot(p, entropy)"
   ]
  },
  {
   "cell_type": "markdown",
   "metadata": {},
   "source": [
    "## 4. (Praca domowa za 1 pkt) Napisz program, który dla zadanego pliku tekstowego (np. covid-19) tworzy tablicę częstotliwości znaków, kody Huffmana dla wszystkich znaków oraz wylicza entropię tego pliku i długość kodu Huffmana, który opisywałby cały plik"
   ]
  },
  {
   "cell_type": "code",
   "execution_count": null,
   "metadata": {},
   "outputs": [],
   "source": [
    "with gzip.open('covid-19.fasta_.gz', 'rb') as f:\n",
    "    file_content = f.read()\n",
    "    \n",
    "text = file_content.decode(\"utf-8\") "
   ]
  },
  {
   "cell_type": "code",
   "execution_count": null,
   "metadata": {},
   "outputs": [],
   "source": [
    "from collections import Counter\n",
    "freq_tab = Counter(text)"
   ]
  },
  {
   "cell_type": "code",
   "execution_count": null,
   "metadata": {},
   "outputs": [],
   "source": [
    "symbols, freq = zip(freq_tab.items())\n",
    "dist = freq / freq.sum()\n",
    "dist"
   ]
  },
  {
   "cell_type": "code",
   "execution_count": null,
   "metadata": {},
   "outputs": [],
   "source": [
    "def entropy(p):\n",
    "    ent = - (p * np.log2(p)).sum()\n",
    "    return ent\n",
    "\n",
    "entropy(dist)"
   ]
  },
  {
   "cell_type": "code",
   "execution_count": null,
   "metadata": {},
   "outputs": [],
   "source": [
    "symbols, freqs = zip(*sorted(list(freq_tab.items()), key=lambda x: x[1]))\n",
    "def huffman_coding(symbols, freqs):\n",
    "    \n"
   ]
  },
  {
   "cell_type": "markdown",
   "metadata": {},
   "source": [
    "# 4. Ratio images"
   ]
  },
  {
   "cell_type": "code",
   "execution_count": 3,
   "metadata": {},
   "outputs": [
    {
     "data": {
      "text/plain": [
       "0.31887151865475566"
      ]
     },
     "execution_count": 3,
     "metadata": {},
     "output_type": "execute_result"
    }
   ],
   "source": [
    "import os\n",
    "\n",
    "compress_ratio = os.path.getsize('covid-19.fasta_.gz') / os.path.getsize('covid-19.fasta_.txt')\n",
    "compress_ratio"
   ]
  },
  {
   "cell_type": "code",
   "execution_count": 2,
   "metadata": {},
   "outputs": [],
   "source": [
    "URL='http://regulomics.mimuw.edu.pl/wp/wp-content/uploads/2019/04/palmy.png'\n",
    "\n",
    "def get_image_from_url(image_url=URL, size=(256, 256)):\n",
    "    file_descriptor = request.urlopen(image_url)\n",
    "    image_file = io.BytesIO(file_descriptor.read())\n",
    "    image = Image.open(image_file)\n",
    "    img_color = image.resize(size, 1)\n",
    "    img_grey = img_color.convert('L')\n",
    "    img = np.array(img_grey, dtype=np.float)\n",
    "    return img\n",
    "\n",
    "def get_2D_dct(img):\n",
    "    \"\"\" Get 2D Cosine Transform of Image\n",
    "    \"\"\"\n",
    "    return fftpack.dct(fftpack.dct(img.T, norm='ortho').T, norm='ortho')\n",
    "\n",
    "def get_2d_idct(coefficients):\n",
    "    \"\"\" Get 2D Inverse Cosine Transform of Image\n",
    "    \"\"\"\n",
    "    return fftpack.idct(fftpack.idct(coefficients.T, norm='ortho').T, norm='ortho')\n",
    "\n",
    "def get_reconstructed_image(raw):\n",
    "    img = raw.clip(0, 255)\n",
    "    img = img.astype('uint8')\n",
    "    img = Image.fromarray(img)\n",
    "    return img"
   ]
  },
  {
   "cell_type": "code",
   "execution_count": null,
   "metadata": {},
   "outputs": [],
   "source": [
    "img = get_image_from_url(URL)\n",
    "im = Image.fromarray(img)\n",
    "if im.mode != 'RGB':\n",
    "    im = im.convert('RGB')\n",
    "im.save(\"org.jpeg\")"
   ]
  },
  {
   "cell_type": "code",
   "execution_count": null,
   "metadata": {},
   "outputs": [],
   "source": [
    "coefs = get_2D_dct(img)\n",
    "i = 64\n",
    "coefs_p = np.zeros_like(coefs)\n",
    "coefs_p[:i, :i] = coefs[:i, :i]\n"
   ]
  },
  {
   "cell_type": "code",
   "execution_count": null,
   "metadata": {},
   "outputs": [],
   "source": [
    "from PIL import Image\n",
    "im = Image.fromarray(get_2d_idct(coefs_p))\n",
    "if im.mode != 'RGB':\n",
    "    im = im.convert('RGB')\n",
    "im.save(\"1.jpeg\")"
   ]
  },
  {
   "cell_type": "code",
   "execution_count": null,
   "metadata": {},
   "outputs": [],
   "source": [
    "compress_ratio = os.path.getsize('1.jpeg') / os.path.getsize('org.jpeg')\n",
    "compress_ratio"
   ]
  },
  {
   "cell_type": "code",
   "execution_count": 4,
   "metadata": {},
   "outputs": [],
   "source": [
    "import sys"
   ]
  },
  {
   "cell_type": "code",
   "execution_count": 5,
   "metadata": {},
   "outputs": [],
   "source": [
    "def save_img(img, img_name):\n",
    "    im = Image.fromarray(img)\n",
    "    if im.mode != 'RGB':\n",
    "        im = im.convert('RGB')\n",
    "    im.save(img_name)"
   ]
  },
  {
   "cell_type": "code",
   "execution_count": 15,
   "metadata": {},
   "outputs": [
    {
     "name": "stdout",
     "output_type": "stream",
     "text": [
      "1.0 0 256\n",
      "0.8178997613365155 0 128\n",
      "0.5894391408114559 0 64\n",
      "0.43204057279236274 32 64\n"
     ]
    }
   ],
   "source": [
    "name = 'name'\n",
    "img = get_image_from_url(URL)\n",
    "a = 0\n",
    "b = img.shape[0]\n",
    "curr_ratio = 1.0\n",
    "save_img(img, 'org.jpeg')\n",
    "coefs = get_2D_dct(img)\n",
    "coefs_p = np.zeros_like(coefs)\n",
    "while curr_ratio < 0.5 or curr_ratio > 0.55:\n",
    "    print(curr_ratio, a, b)\n",
    "    del coefs_p\n",
    "    coefs_p = np.zeros_like(coefs)\n",
    "    i = (a + b) // 2\n",
    "    coefs_p[:i, :i] = coefs[:i, :i]\n",
    "    save_img(get_2d_idct(coefs_p), '1.jpeg')\n",
    "    curr_ratio = os.path.getsize('1.jpeg') / os.path.getsize('org.jpeg')\n",
    "    if curr_ratio > 0.5:\n",
    "        b = i\n",
    "    else:\n",
    "        a = i\n",
    "# np.save(f'{name}.dct', coefs_p[:i, :i])\n",
    "    \n",
    "    "
   ]
  },
  {
   "cell_type": "code",
   "execution_count": null,
   "metadata": {},
   "outputs": [],
   "source": [
    "print(curr_ratio)"
   ]
  },
  {
   "cell_type": "code",
   "execution_count": null,
   "metadata": {},
   "outputs": [],
   "source": []
  }
 ],
 "metadata": {
  "kernelspec": {
   "display_name": "Python 3",
   "language": "python",
   "name": "python3"
  },
  "language_info": {
   "codemirror_mode": {
    "name": "ipython",
    "version": 3
   },
   "file_extension": ".py",
   "mimetype": "text/x-python",
   "name": "python",
   "nbconvert_exporter": "python",
   "pygments_lexer": "ipython3",
   "version": "3.5.2"
  }
 },
 "nbformat": 4,
 "nbformat_minor": 2
}
